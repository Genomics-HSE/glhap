{
 "cells": [
  {
   "cell_type": "code",
   "execution_count": 2,
   "metadata": {},
   "outputs": [],
   "source": [
    "from anytree import NodeMixin, RenderTree\n",
    "import numpy as np\n",
    "from pysam import VariantFile, FastaFile\n",
    "from anytree import find_by_attr, PreOrderIter\n",
    "import json"
   ]
  },
  {
   "cell_type": "code",
   "execution_count": 3,
   "metadata": {},
   "outputs": [],
   "source": [
    "class Node(NodeMixin):\n",
    "    def __init__(self, name, snps=[],insertion=[],deletion = [], parent=None, children=None):\n",
    "        self.name = name\n",
    "        self.snps = snps\n",
    "        self.insertion = insertion\n",
    "        self.deletion = deletion\n",
    "        self.parent = parent\n",
    "        self.lh = 0\n",
    "        if children:  # set children only if given\n",
    "             self.children = children\n",
    "    \n",
    "    def __repr__(self):\n",
    "             return self.name +\" \"+ str(self.lh)\n",
    "    def __str__(self):\n",
    "        return self.name"
   ]
  },
  {
   "cell_type": "code",
   "execution_count": 4,
   "metadata": {},
   "outputs": [],
   "source": [
    "def get_snp(node):\n",
    "    '''\n",
    "    Returns snps fron node: Node\n",
    "    \n",
    "    Paramters:\n",
    "    node : Node\n",
    "    node in phylogenetic tree\n",
    "    \n",
    "    Returns:\n",
    "    list of lists of [old_nucleotide,new_nucleotid, position]\n",
    "    '''\n",
    "    snp = list()\n",
    "    atgc = set(['A','T','G','C','a','t','g','c'])\n",
    "    for i in range(2,len(node)):\n",
    "        if node[i][0] in atgc and node[i][-1] in atgc:\n",
    "            snp.append([node[i][0],node[i][-1],int(node[i][1:-1])])\n",
    "    return snp"
   ]
  },
  {
   "cell_type": "code",
   "execution_count": 5,
   "metadata": {},
   "outputs": [],
   "source": [
    "def get_insertion(node):\n",
    "    '''\n",
    "    Currently unused\n",
    "    '''\n",
    "    ins = set()\n",
    "    for i in range(2,len(node)):\n",
    "        if '.' in node[i]:\n",
    "            dot_pos = node[i].find('.')\n",
    "            pos = int(node[i][1:dot_pos])\n",
    "#             size = ''.join(k for k in node[i][dot_pos+1:] if  k.isdigit())\n",
    "#             insert = ''.join(k for k in node[i][dot_pos+1:] if  k.isalpha())\n",
    "            ins.add(pos)\n",
    "    return ins"
   ]
  },
  {
   "cell_type": "code",
   "execution_count": 6,
   "metadata": {},
   "outputs": [],
   "source": [
    "def get_deletion(node):\n",
    "    '''\n",
    "    Currently unused\n",
    "    '''\n",
    "    deletion = set()\n",
    "    for i in range(2,len(node)):\n",
    "        if node[i][-1]=='d':\n",
    "            if node[i][0].isalpha():\n",
    "                deletion.add(int(node[i][1:-1]))\n",
    "            else:\n",
    "                dash_pos = node[i].find('-')\n",
    "                deletion.add(int(node[i][1:dash_pos]))\n",
    "    return deletion"
   ]
  },
  {
   "cell_type": "code",
   "execution_count": 7,
   "metadata": {},
   "outputs": [],
   "source": [
    "def make_tree(tree,node,pos=0):    \n",
    "    '''\n",
    "    Initializate tree structure of phylogenetic tree\n",
    "    Parameters:\n",
    "    tree: list\n",
    "    list from phylotree-parse\n",
    "    node: Node\n",
    "    root node\n",
    "    pos: int\n",
    "    unnecessary parameter. position of current node in tree list\n",
    "    \n",
    "    '''\n",
    "\n",
    "    \n",
    "    posit = pos + 1\n",
    "    i = posit\n",
    "    while i<len(tree) and tree[i][0] >= tree[pos][0]+1:\n",
    "        if tree[i][0] == tree[pos][0]+1:\n",
    "            # print(node.name,tree[i][1])\n",
    "            snps = get_snp(tree[i])\n",
    "            # insertion = get_insertion(tree[i])\n",
    "            insertion = set()\n",
    "            # deletion = get_deletion(tree[i])\n",
    "            deletion = set()\n",
    "            tmp = Node(tree[i][1],snps,insertion,parent=node)\n",
    "            \n",
    "            make_tree(tree,tmp,i)\n",
    "\n",
    "        i += 1        "
   ]
  },
  {
   "cell_type": "code",
   "execution_count": 44,
   "metadata": {},
   "outputs": [],
   "source": [
    "def get_log_monozygous(bcf: VariantFile):\n",
    "    '''\n",
    "    PL scores for bcf\n",
    "    \n",
    "    '''\n",
    "    gls = np.full((16569,4),-1)\n",
    "    for rec in bcf.fetch():\n",
    "        pos = rec.pos\n",
    "        pls = rec.samples.values()[0]['PL']\n",
    "        alt = rec.alleles\n",
    "        k = 0\n",
    "        s = 2\n",
    "        for i in range(len(alt)):\n",
    "            if alt[i] == 'A':\n",
    "                gls[pos-1][0] = pls[k]\n",
    "            elif alt[i] == 'T':\n",
    "                gls[pos-1][1] = pls[k]\n",
    "            elif alt[i] == 'G':\n",
    "                gls[pos-1][2] = pls[k]\n",
    "            elif alt[i] == 'C':\n",
    "                gls[pos-1][3] = pls[k]\n",
    "            elif alt[i] == '<*>':\n",
    "                for j in range(4):\n",
    "                    if gls[pos-1][j] == -1:\n",
    "                        gls[pos-1][j] = pls[k]\n",
    "            k += s\n",
    "            s += 1\n",
    "    return gls"
   ]
  },
  {
   "cell_type": "code",
   "execution_count": 33,
   "metadata": {},
   "outputs": [],
   "source": [
    "def call_likelihood(gls,node,ref,lh=0):\n",
    "    '''\n",
    "    Calculates likelihood for node considering parent node likelihood.\n",
    "    \n",
    "    Parameters:\n",
    "    gls : np.array\n",
    "    array of snp likelihoods\n",
    "    node: Node\n",
    "    haplogroup node\n",
    "    ref: FastaFile\n",
    "    reference genome\n",
    "    lh: float\n",
    "    genotype likelihood for parent haplogroup\n",
    "    \n",
    "    Returns\n",
    "    \n",
    "    lh : float\n",
    "    likelihood of haplogroup\n",
    "    '''\n",
    "    snps = node.snps\n",
    "    for snp in snps:\n",
    "#       snp = [old, new, pos]\n",
    "        pos = snp[2]-1\n",
    "        if snp[1].capitalize() == 'A':\n",
    "            lh = lh - calculate_pl(gls,ref, pos) + gls[pos,0]\n",
    "        if snp[1].capitalize() == 'T':\n",
    "            lh = lh - calculate_pl(gls,ref, pos) + gls[pos,1]\n",
    "        if snp[1].capitalize() == 'G':\n",
    "            lh = lh - calculate_pl(gls,ref, pos) + gls[pos,2]\n",
    "        if snp[1].capitalize() == 'C':\n",
    "            lh = lh - calculate_pl(gls,ref, pos) + gls[pos,3]\n",
    "        \n",
    "    \n",
    "#         for ins in insertions:\n",
    "#             if ins[0] in node.insertion:\n",
    "#             ins = [pos,lh]\n",
    "#                 pos = ins[0]-1\n",
    "#                 lh = lh - calculate_pl(gls,ref,pos) + lh[1]\n",
    "\n",
    "#         for delt in deletions:\n",
    "#             if ins[0] in node.deletion:\n",
    "#             delt = [pos,lh]\n",
    "#                 pos = delt[0]-1\n",
    "#                 lh = lh - calculate_pl(gls,ref,pos) + delt[1]\n",
    "    return lh\n",
    "        \n",
    "    \n",
    "    "
   ]
  },
  {
   "cell_type": "code",
   "execution_count": 21,
   "metadata": {},
   "outputs": [],
   "source": [
    "def calculate_likelihood(vcf, ref):\n",
    "    '''\n",
    "    Calculates genotype likelihood against reference genome\n",
    "    \n",
    "    \n",
    "    Parameters:\n",
    "    -----------\n",
    "    vcf : VariantFile\n",
    "    vcf/bcf file\n",
    "    \n",
    "    ref: FastaFile\n",
    "    reference genome\n",
    "    --\n",
    "    Returns\n",
    "    -------\n",
    "    lh : float\n",
    "    likelihood against reference\n",
    "    '''\n",
    "    lh = 0\n",
    "    ref = ref.fetch('chrM')\n",
    "    gls = get_log_monozygous(vcf)\n",
    "    for i in range(len(ref)):\n",
    "        if ref[i].capitalize() == 'A':\n",
    "            lh += gls[i,0]\n",
    "        if ref[i].capitalize() == 'T':\n",
    "            lh += gls[i,1]\n",
    "        if ref[i].capitalize() == 'G':\n",
    "            lh += gls[i,2]\n",
    "        if ref[i].capitalize() == 'C':\n",
    "            lh += gls[i,3]\n",
    "    return lh"
   ]
  },
  {
   "cell_type": "code",
   "execution_count": 34,
   "metadata": {},
   "outputs": [],
   "source": [
    "def prunung(node, ref, ref_lh, gls):\n",
    "    '''\n",
    "    Calculates genotype likelihood for each haplogroup in the tree\n",
    "    Parameters:\n",
    "    -----------\n",
    "    node: Node\n",
    "    root node in the tree structure\n",
    "    ref: FastaFile\n",
    "    reference file\n",
    "    gls: np.array\n",
    "    matrix of snp pl scores\n",
    "    '''\n",
    "    if node.parent == None:\n",
    "        node.lh = ref_lh\n",
    "    else:\n",
    "        node.lh = call_likelihood(gls,node,ref,node.parent.lh)\n",
    "    for i in node.children:\n",
    "        prunung(i,ref, ref_lh, gls)"
   ]
  },
  {
   "cell_type": "code",
   "execution_count": 35,
   "metadata": {},
   "outputs": [],
   "source": [
    "def calculate_pl(gls, ref, pos):\n",
    "    '''\n",
    "    Calculate pl score of certain position on reference\n",
    "    \n",
    "    Parameters:\n",
    "    -----------\n",
    "    gls : np.array\n",
    "    matrix of snp pl scores\n",
    "    ref: FastaFile\n",
    "    reference\n",
    "    pos: int\n",
    "    position\n",
    "    '''\n",
    "    lh = 0\n",
    "    ref = ref.fetch('chrM')\n",
    "    i = pos\n",
    "    if ref[i].capitalize() == 'A':\n",
    "        lh += gls[i,0]\n",
    "    if ref[i].capitalize() == 'T':\n",
    "        lh += gls[i,1]\n",
    "    if ref[i].capitalize() == 'G':\n",
    "        lh += gls[i,2]\n",
    "    if ref[i].capitalize() == 'C':\n",
    "        lh += gls[i,3]\n",
    "    return lh"
   ]
  },
  {
   "cell_type": "code",
   "execution_count": 83,
   "metadata": {},
   "outputs": [],
   "source": [
    "# import argparse\n",
    "# parser = argparse.ArgumentParser(description='Calculation of haplogroups')\n",
    "# parser.add_argument('tree', type=str, help='haplogroup tree')\n",
    "# parser.add_argument('ref', type=str, help='reference fasta')\n",
    "# parser.add_argument('vcf', type=str, help='vcf file of mtdna')\n",
    "# args = parser.parse_args()"
   ]
  },
  {
   "cell_type": "code",
   "execution_count": 84,
   "metadata": {},
   "outputs": [],
   "source": [
    "\n",
    "# with open(args.tree) as f:\n",
    "#     d = json.load(f) # d - это список python\n",
    "# #     print(d)\n",
    "# for i in d:\n",
    "#     i[0] += 1\n",
    "#     d[0][0]=0\n",
    "\n",
    "# bcf_in = VariantFile(args.vcf) \n",
    "# ref = FastaFile(args.ref)\n"
   ]
  },
  {
   "cell_type": "code",
   "execution_count": 36,
   "metadata": {},
   "outputs": [],
   "source": [
    "def glhap(bcf_in_str, comment=True):\n",
    "    with open('array/array.json') as f:\n",
    "        d = json.load(f) # d - это список python\n",
    "    for i in d:\n",
    "        i[0] += 1\n",
    "    d[0][0]=0\n",
    "\n",
    "    bcf_in = VariantFile(bcf_in_str) \n",
    "    ref = FastaFile('refchrm.fa')\n",
    "    a = Node(d[0][1],[])\n",
    "    make_tree(d,a,0)\n",
    "    ref_lh = calculate_likelihood(bcf_in, ref)\n",
    "    gls = get_log_monozygous(bcf_in)\n",
    "    prunung(a, ref, ref_lh, gls)\n",
    "    key = lambda x: x.lh\n",
    "    S = list()\n",
    "    for i in PreOrderIter(a):\n",
    "        S.append(i)\n",
    "    S.sort(key = key,reverse=False)\n",
    "    if comment:\n",
    "        for i in range(10):\n",
    "            print(S[i].name+\",lh = \",S[i].lh)\n",
    "    \n",
    "    # print(ref_lh)\n",
    "    return [(S[i].name, S[i].lh) for i in range(10)]"
   ]
  },
  {
   "cell_type": "code",
   "execution_count": 25,
   "metadata": {},
   "outputs": [],
   "source": [
    "  ref = FastaFile('refchrm.fa')"
   ]
  },
  {
   "cell_type": "code",
   "execution_count": 15,
   "metadata": {},
   "outputs": [
    {
     "ename": "NameError",
     "evalue": "name 'bcf_test' is not defined",
     "output_type": "error",
     "traceback": [
      "\u001b[0;31m---------------------------------------------------------------------------\u001b[0m",
      "\u001b[0;31mNameError\u001b[0m                                 Traceback (most recent call last)",
      "Input \u001b[0;32mIn [15]\u001b[0m, in \u001b[0;36m<cell line: 1>\u001b[0;34m()\u001b[0m\n\u001b[0;32m----> 1\u001b[0m calculate_likelihood(\u001b[43mbcf_test\u001b[49m, ref)\n",
      "\u001b[0;31mNameError\u001b[0m: name 'bcf_test' is not defined"
     ]
    }
   ],
   "source": [
    "# calculate_likelihood(bcf_test, ref)"
   ]
  },
  {
   "cell_type": "code",
   "execution_count": 45,
   "metadata": {},
   "outputs": [
    {
     "name": "stdout",
     "output_type": "stream",
     "text": [
      "L2d1a,lh =  11564\n",
      "L2d1,lh =  11857\n",
      "L2d,lh =  11941\n",
      "-,lh =  11941\n",
      "L2b'c'd,lh =  13983\n",
      "L2a'b'c'd,lh =  14094\n",
      "L2,lh =  14140\n",
      "L2a,lh =  14349\n",
      "H5'36,lh =  14490\n",
      "HV8,lh =  14651\n"
     ]
    },
    {
     "data": {
      "text/plain": [
       "[('L2d1a', 11564),\n",
       " ('L2d1', 11857),\n",
       " ('L2d', 11941),\n",
       " ('-', 11941),\n",
       " (\"L2b'c'd\", 13983),\n",
       " (\"L2a'b'c'd\", 14094),\n",
       " ('L2', 14140),\n",
       " ('L2a', 14349),\n",
       " (\"H5'36\", 14490),\n",
       " ('HV8', 14651)]"
      ]
     },
     "execution_count": 45,
     "metadata": {},
     "output_type": "execute_result"
    }
   ],
   "source": [
    "glhap(\"gargammelhigh.vcf\")"
   ]
  },
  {
   "cell_type": "code",
   "execution_count": 46,
   "metadata": {},
   "outputs": [
    {
     "name": "stdout",
     "output_type": "stream",
     "text": [
      "L2d1,lh =  13762\n",
      "L2d1a,lh =  13762\n",
      "L2d,lh =  13871\n",
      "-,lh =  13871\n",
      "L2b'c'd,lh =  14540\n",
      "L2a'b'c'd,lh =  14666\n",
      "L2,lh =  14794\n",
      "mt-MRCA (RSRS),lh =  14910\n",
      "L1'2'3'4'5'6,lh =  14910\n",
      "L2'3'4'5'6,lh =  14910\n"
     ]
    },
    {
     "data": {
      "text/plain": [
       "[('L2d1', 13762),\n",
       " ('L2d1a', 13762),\n",
       " ('L2d', 13871),\n",
       " ('-', 13871),\n",
       " (\"L2b'c'd\", 14540),\n",
       " (\"L2a'b'c'd\", 14666),\n",
       " ('L2', 14794),\n",
       " ('mt-MRCA (RSRS)', 14910),\n",
       " (\"L1'2'3'4'5'6\", 14910),\n",
       " (\"L2'3'4'5'6\", 14910)]"
      ]
     },
     "execution_count": 46,
     "metadata": {},
     "output_type": "execute_result"
    }
   ],
   "source": [
    "glhap(\"gargammellow.vcf\")"
   ]
  },
  {
   "cell_type": "code",
   "execution_count": 17,
   "metadata": {},
   "outputs": [
    {
     "name": "stderr",
     "output_type": "stream",
     "text": [
      "/var/folders/6l/0qdfm_q1033f77sclr7_5nrm0000gn/T/ipykernel_3976/2194896529.py:19: RuntimeWarning: divide by zero encountered in log10\n",
      "  gls[pos-1][2] = max(np.log10(1- 10**(-pls[k]/10)),-20)\n",
      "/var/folders/6l/0qdfm_q1033f77sclr7_5nrm0000gn/T/ipykernel_3976/2194896529.py:15: RuntimeWarning: divide by zero encountered in log10\n",
      "  gls[pos-1][0] = max(np.log10(1- 10**(-pls[k]/10)),-20)\n",
      "/var/folders/6l/0qdfm_q1033f77sclr7_5nrm0000gn/T/ipykernel_3976/2194896529.py:17: RuntimeWarning: divide by zero encountered in log10\n",
      "  gls[pos-1][1] = max(np.log10(1 - 10**(-pls[k]/10)),-20)\n",
      "/var/folders/6l/0qdfm_q1033f77sclr7_5nrm0000gn/T/ipykernel_3976/2194896529.py:21: RuntimeWarning: divide by zero encountered in log10\n",
      "  gls[pos-1][3] = max(np.log10(1- 10**(-pls[k]/10)),-20)\n"
     ]
    },
    {
     "data": {
      "text/plain": [
       "-330180"
      ]
     },
     "execution_count": 17,
     "metadata": {},
     "output_type": "execute_result"
    }
   ],
   "source": [
    " bcf_in = VariantFile(\"gargammel1.vcf\") \n",
    "ref = FastaFile('refchrm.fa')\n",
    "calculate_likelihood(bcf_in, ref)"
   ]
  },
  {
   "cell_type": "code",
   "execution_count": 152,
   "metadata": {},
   "outputs": [
    {
     "data": {
      "text/plain": [
       "array([255, 255,   0, 255])"
      ]
     },
     "execution_count": 185,
     "metadata": {},
     "output_type": "execute_result"
    }
   ],
   "source": [
    "get_log_monozygous(bcf_in)[16128]"
   ]
  },
  {
   "cell_type": "code",
   "execution_count": 178,
   "metadata": {},
   "outputs": [],
   "source": [
    "f = open('rsrs.fasta', 'r')"
   ]
  },
  {
   "cell_type": "code",
   "execution_count": 179,
   "metadata": {},
   "outputs": [],
   "source": [
    "s = ''.join(f.readlines()[1:]).replace('\\n','')"
   ]
  },
  {
   "cell_type": "code",
   "execution_count": 187,
   "metadata": {},
   "outputs": [
    {
     "data": {
      "text/plain": [
       "'A'"
      ]
     },
     "execution_count": 187,
     "metadata": {},
     "output_type": "execute_result"
    }
   ],
   "source": [
    "s[73-1]"
   ]
  },
  {
   "cell_type": "code",
   "execution_count": 18,
   "metadata": {},
   "outputs": [
    {
     "name": "stderr",
     "output_type": "stream",
     "text": [
      "/var/folders/6l/0qdfm_q1033f77sclr7_5nrm0000gn/T/ipykernel_3976/2194896529.py:19: RuntimeWarning: divide by zero encountered in log10\n",
      "  gls[pos-1][2] = max(np.log10(1- 10**(-pls[k]/10)),-20)\n",
      "/var/folders/6l/0qdfm_q1033f77sclr7_5nrm0000gn/T/ipykernel_3976/2194896529.py:15: RuntimeWarning: divide by zero encountered in log10\n",
      "  gls[pos-1][0] = max(np.log10(1- 10**(-pls[k]/10)),-20)\n",
      "/var/folders/6l/0qdfm_q1033f77sclr7_5nrm0000gn/T/ipykernel_3976/2194896529.py:17: RuntimeWarning: divide by zero encountered in log10\n",
      "  gls[pos-1][1] = max(np.log10(1 - 10**(-pls[k]/10)),-20)\n",
      "/var/folders/6l/0qdfm_q1033f77sclr7_5nrm0000gn/T/ipykernel_3976/2194896529.py:21: RuntimeWarning: divide by zero encountered in log10\n",
      "  gls[pos-1][3] = max(np.log10(1- 10**(-pls[k]/10)),-20)\n",
      "/var/folders/6l/0qdfm_q1033f77sclr7_5nrm0000gn/T/ipykernel_3976/2194896529.py:25: RuntimeWarning: divide by zero encountered in log10\n",
      "  gls[pos-1][j] = max(np.log10(1- 10**(-pls[k]/10)),-20)\n"
     ]
    },
    {
     "name": "stdout",
     "output_type": "stream",
     "text": [
      "L2d,lh =  -330240\n",
      "-,lh =  -330240\n",
      "L2d1,lh =  -330240\n",
      "L2d1a,lh =  -330240\n",
      "L2,lh =  -330220\n",
      "L2a'b'c'd,lh =  -330220\n",
      "L2b'c'd,lh =  -330220\n",
      "L2a,lh =  -330200\n",
      "H5'36,lh =  -330200\n",
      "mt-MRCA (RSRS),lh =  -330180\n"
     ]
    },
    {
     "data": {
      "text/plain": [
       "[('L2d', -330240),\n",
       " ('-', -330240),\n",
       " ('L2d1', -330240),\n",
       " ('L2d1a', -330240),\n",
       " ('L2', -330220),\n",
       " (\"L2a'b'c'd\", -330220),\n",
       " (\"L2b'c'd\", -330220),\n",
       " ('L2a', -330200),\n",
       " (\"H5'36\", -330200),\n",
       " ('mt-MRCA (RSRS)', -330180)]"
      ]
     },
     "execution_count": 18,
     "metadata": {},
     "output_type": "execute_result"
    }
   ],
   "source": [
    "glhap(\"gargammelhigh.vcf\")"
   ]
  },
  {
   "cell_type": "code",
   "execution_count": null,
   "metadata": {},
   "outputs": [],
   "source": [
    "for i in range(1,13):\n",
    "    info = glhap(\"gargammel12.vcf\")\n",
    "    y_vec = [x[1] for x in info]\n",
    "    plt.plot\n",
    "    "
   ]
  },
  {
   "cell_type": "code",
   "execution_count": 77,
   "metadata": {},
   "outputs": [
    {
     "name": "stderr",
     "output_type": "stream",
     "text": [
      "/var/folders/6l/0qdfm_q1033f77sclr7_5nrm0000gn/T/ipykernel_59252/4031268679.py:19: RuntimeWarning: divide by zero encountered in log\n",
      "  gls[pos-1][2] = max(np.log(1- 10**(-pls[k]/10)),-255)\n",
      "/var/folders/6l/0qdfm_q1033f77sclr7_5nrm0000gn/T/ipykernel_59252/4031268679.py:15: RuntimeWarning: divide by zero encountered in log\n",
      "  gls[pos-1][0] = max(np.log(1- 10**(-pls[k]/10)),-255)\n",
      "/var/folders/6l/0qdfm_q1033f77sclr7_5nrm0000gn/T/ipykernel_59252/4031268679.py:17: RuntimeWarning: divide by zero encountered in log\n",
      "  gls[pos-1][1] = max(np.log(1- 10**(-pls[k]/10)),-255)\n",
      "/var/folders/6l/0qdfm_q1033f77sclr7_5nrm0000gn/T/ipykernel_59252/4031268679.py:21: RuntimeWarning: divide by zero encountered in log\n",
      "  gls[pos-1][3] = max(np.log(1- 10**(-pls[k]/10)),-255)\n"
     ]
    },
    {
     "name": "stdout",
     "output_type": "stream",
     "text": [
      "L2d,lh =  -4210050\n",
      "-,lh =  -4210050\n",
      "L2d1,lh =  -4210050\n",
      "H5'36,lh =  -4210050\n",
      "mt-MRCA (RSRS),lh =  -4209795\n",
      "L1'2'3'4'5'6,lh =  -4209795\n",
      "L2'3'4'5'6,lh =  -4209795\n",
      "L2'3'4'6,lh =  -4209795\n",
      "L2,lh =  -4209795\n",
      "L2a'b'c'd,lh =  -4209795\n"
     ]
    }
   ],
   "source": [
    "v = glhap(\"gargammel1.vcf\")"
   ]
  },
  {
   "cell_type": "code",
   "execution_count": 48,
   "metadata": {},
   "outputs": [],
   "source": [
    "import matplotlib.pyplot as plt"
   ]
  },
  {
   "cell_type": "code",
   "execution_count": 51,
   "metadata": {},
   "outputs": [
    {
     "data": {
      "image/png": "[encoded data removed]",
      "text/plain": [
       "<Figure size 432x288 with 1 Axes>"
      ]
     },
     "metadata": {
      "needs_background": "light"
     },
     "output_type": "display_data"
    }
   ],
   "source": [
    "v = glhap(f\"gargammelhigh.vcf\", False)\n",
    "x = [s[0] for s in v]\n",
    "y = np.array([s[1] for s in v])\n",
    "plt.bar(x,y-y.min())\n",
    "plt.xticks(rotation=90)\n",
    "plt.show()"
   ]
  },
  {
   "cell_type": "code",
   "execution_count": 54,
   "metadata": {},
   "outputs": [
    {
     "data": {
      "image/png": "[encoded data removed]",
      "text/plain": [
       "<Figure size 432x288 with 1 Axes>"
      ]
     },
     "metadata": {
      "needs_background": "light"
     },
     "output_type": "display_data"
    }
   ],
   "source": [
    "v = glhap(f\"gargammellow.vcf\", False)\n",
    "x = [s[0] for s in v]\n",
    "y = np.array([s[1] for s in v])\n",
    "plt.bar(x,y-y.min())\n",
    "plt.xticks(rotation=90)\n",
    "plt.show()"
   ]
  },
  {
   "cell_type": "code",
   "execution_count": 49,
   "metadata": {},
   "outputs": [
    {
     "data": {
      "image/png": "[encoded data removed]",
      "text/plain": [
       "<Figure size 432x288 with 1 Axes>"
      ]
     },
     "metadata": {
      "needs_background": "light"
     },
     "output_type": "display_data"
    },
    {
     "data": {
      "image/png": "[encoded data removed]",
      "text/plain": [
       "<Figure size 432x288 with 1 Axes>"
      ]
     },
     "metadata": {
      "needs_background": "light"
     },
     "output_type": "display_data"
    }
   ],
   "source": [
    "# fig, ax =  plt.subplots(2, )\n",
    "for i in range(2):\n",
    "    v = glhap(f\"gargammel{i+1}.vcf\", False)\n",
    "    x = [s[0] for s in v]\n",
    "    y = np.array([s[1] for s in v])\n",
    "    plt.bar(x,y-y.min())\n",
    "    plt.xticks(rotation=90)\n",
    "    plt.show()"
   ]
  },
  {
   "cell_type": "code",
   "execution_count": 90,
   "metadata": {},
   "outputs": [
    {
     "name": "stderr",
     "output_type": "stream",
     "text": [
      "/var/folders/6l/0qdfm_q1033f77sclr7_5nrm0000gn/T/ipykernel_59252/2194896529.py:19: RuntimeWarning: divide by zero encountered in log10\n",
      "  gls[pos-1][2] = max(np.log10(1- 10**(-pls[k]/10)),-20)\n",
      "/var/folders/6l/0qdfm_q1033f77sclr7_5nrm0000gn/T/ipykernel_59252/2194896529.py:15: RuntimeWarning: divide by zero encountered in log10\n",
      "  gls[pos-1][0] = max(np.log10(1- 10**(-pls[k]/10)),-20)\n",
      "/var/folders/6l/0qdfm_q1033f77sclr7_5nrm0000gn/T/ipykernel_59252/2194896529.py:17: RuntimeWarning: divide by zero encountered in log10\n",
      "  gls[pos-1][1] = max(np.log10(1 - 10**(-pls[k]/10)),-20)\n",
      "/var/folders/6l/0qdfm_q1033f77sclr7_5nrm0000gn/T/ipykernel_59252/2194896529.py:21: RuntimeWarning: divide by zero encountered in log10\n",
      "  gls[pos-1][3] = max(np.log10(1- 10**(-pls[k]/10)),-20)\n"
     ]
    },
    {
     "data": {
      "image/png": "[encoded data removed]",
      "text/plain": [
       "<Figure size 432x288 with 1 Axes>"
      ]
     },
     "metadata": {
      "needs_background": "light"
     },
     "output_type": "display_data"
    },
    {
     "name": "stderr",
     "output_type": "stream",
     "text": [
      "/var/folders/6l/0qdfm_q1033f77sclr7_5nrm0000gn/T/ipykernel_59252/2194896529.py:19: RuntimeWarning: divide by zero encountered in log10\n",
      "  gls[pos-1][2] = max(np.log10(1- 10**(-pls[k]/10)),-20)\n",
      "/var/folders/6l/0qdfm_q1033f77sclr7_5nrm0000gn/T/ipykernel_59252/2194896529.py:15: RuntimeWarning: divide by zero encountered in log10\n",
      "  gls[pos-1][0] = max(np.log10(1- 10**(-pls[k]/10)),-20)\n",
      "/var/folders/6l/0qdfm_q1033f77sclr7_5nrm0000gn/T/ipykernel_59252/2194896529.py:17: RuntimeWarning: divide by zero encountered in log10\n",
      "  gls[pos-1][1] = max(np.log10(1 - 10**(-pls[k]/10)),-20)\n",
      "/var/folders/6l/0qdfm_q1033f77sclr7_5nrm0000gn/T/ipykernel_59252/2194896529.py:21: RuntimeWarning: divide by zero encountered in log10\n",
      "  gls[pos-1][3] = max(np.log10(1- 10**(-pls[k]/10)),-20)\n"
     ]
    },
    {
     "data": {
      "image/png": "[encoded data removed]",
      "text/plain": [
       "<Figure size 432x288 with 1 Axes>"
      ]
     },
     "metadata": {
      "needs_background": "light"
     },
     "output_type": "display_data"
    },
    {
     "name": "stderr",
     "output_type": "stream",
     "text": [
      "/var/folders/6l/0qdfm_q1033f77sclr7_5nrm0000gn/T/ipykernel_59252/2194896529.py:19: RuntimeWarning: divide by zero encountered in log10\n",
      "  gls[pos-1][2] = max(np.log10(1- 10**(-pls[k]/10)),-20)\n",
      "/var/folders/6l/0qdfm_q1033f77sclr7_5nrm0000gn/T/ipykernel_59252/2194896529.py:15: RuntimeWarning: divide by zero encountered in log10\n",
      "  gls[pos-1][0] = max(np.log10(1- 10**(-pls[k]/10)),-20)\n",
      "/var/folders/6l/0qdfm_q1033f77sclr7_5nrm0000gn/T/ipykernel_59252/2194896529.py:17: RuntimeWarning: divide by zero encountered in log10\n",
      "  gls[pos-1][1] = max(np.log10(1 - 10**(-pls[k]/10)),-20)\n",
      "/var/folders/6l/0qdfm_q1033f77sclr7_5nrm0000gn/T/ipykernel_59252/2194896529.py:21: RuntimeWarning: divide by zero encountered in log10\n",
      "  gls[pos-1][3] = max(np.log10(1- 10**(-pls[k]/10)),-20)\n",
      "/var/folders/6l/0qdfm_q1033f77sclr7_5nrm0000gn/T/ipykernel_59252/2194896529.py:25: RuntimeWarning: divide by zero encountered in log10\n",
      "  gls[pos-1][j] = max(np.log10(1- 10**(-pls[k]/10)),-20)\n"
     ]
    },
    {
     "data": {
      "image/png": "[encoded data removed]",
      "text/plain": [
       "<Figure size 432x288 with 1 Axes>"
      ]
     },
     "metadata": {
      "needs_background": "light"
     },
     "output_type": "display_data"
    },
    {
     "name": "stderr",
     "output_type": "stream",
     "text": [
      "/var/folders/6l/0qdfm_q1033f77sclr7_5nrm0000gn/T/ipykernel_59252/2194896529.py:19: RuntimeWarning: divide by zero encountered in log10\n",
      "  gls[pos-1][2] = max(np.log10(1- 10**(-pls[k]/10)),-20)\n",
      "/var/folders/6l/0qdfm_q1033f77sclr7_5nrm0000gn/T/ipykernel_59252/2194896529.py:15: RuntimeWarning: divide by zero encountered in log10\n",
      "  gls[pos-1][0] = max(np.log10(1- 10**(-pls[k]/10)),-20)\n",
      "/var/folders/6l/0qdfm_q1033f77sclr7_5nrm0000gn/T/ipykernel_59252/2194896529.py:17: RuntimeWarning: divide by zero encountered in log10\n",
      "  gls[pos-1][1] = max(np.log10(1 - 10**(-pls[k]/10)),-20)\n",
      "/var/folders/6l/0qdfm_q1033f77sclr7_5nrm0000gn/T/ipykernel_59252/2194896529.py:21: RuntimeWarning: divide by zero encountered in log10\n",
      "  gls[pos-1][3] = max(np.log10(1- 10**(-pls[k]/10)),-20)\n"
     ]
    },
    {
     "data": {
      "image/png": "[encoded data removed]",
      "text/plain": [
       "<Figure size 432x288 with 1 Axes>"
      ]
     },
     "metadata": {
      "needs_background": "light"
     },
     "output_type": "display_data"
    },
    {
     "name": "stderr",
     "output_type": "stream",
     "text": [
      "/var/folders/6l/0qdfm_q1033f77sclr7_5nrm0000gn/T/ipykernel_59252/2194896529.py:19: RuntimeWarning: divide by zero encountered in log10\n",
      "  gls[pos-1][2] = max(np.log10(1- 10**(-pls[k]/10)),-20)\n",
      "/var/folders/6l/0qdfm_q1033f77sclr7_5nrm0000gn/T/ipykernel_59252/2194896529.py:15: RuntimeWarning: divide by zero encountered in log10\n",
      "  gls[pos-1][0] = max(np.log10(1- 10**(-pls[k]/10)),-20)\n",
      "/var/folders/6l/0qdfm_q1033f77sclr7_5nrm0000gn/T/ipykernel_59252/2194896529.py:17: RuntimeWarning: divide by zero encountered in log10\n",
      "  gls[pos-1][1] = max(np.log10(1 - 10**(-pls[k]/10)),-20)\n",
      "/var/folders/6l/0qdfm_q1033f77sclr7_5nrm0000gn/T/ipykernel_59252/2194896529.py:21: RuntimeWarning: divide by zero encountered in log10\n",
      "  gls[pos-1][3] = max(np.log10(1- 10**(-pls[k]/10)),-20)\n",
      "/var/folders/6l/0qdfm_q1033f77sclr7_5nrm0000gn/T/ipykernel_59252/2194896529.py:25: RuntimeWarning: divide by zero encountered in log10\n",
      "  gls[pos-1][j] = max(np.log10(1- 10**(-pls[k]/10)),-20)\n"
     ]
    },
    {
     "data": {
      "image/png": "[encoded data removed]",
      "text/plain": [
       "<Figure size 432x288 with 1 Axes>"
      ]
     },
     "metadata": {
      "needs_background": "light"
     },
     "output_type": "display_data"
    },
    {
     "name": "stderr",
     "output_type": "stream",
     "text": [
      "/var/folders/6l/0qdfm_q1033f77sclr7_5nrm0000gn/T/ipykernel_59252/2194896529.py:19: RuntimeWarning: divide by zero encountered in log10\n",
      "  gls[pos-1][2] = max(np.log10(1- 10**(-pls[k]/10)),-20)\n",
      "/var/folders/6l/0qdfm_q1033f77sclr7_5nrm0000gn/T/ipykernel_59252/2194896529.py:15: RuntimeWarning: divide by zero encountered in log10\n",
      "  gls[pos-1][0] = max(np.log10(1- 10**(-pls[k]/10)),-20)\n",
      "/var/folders/6l/0qdfm_q1033f77sclr7_5nrm0000gn/T/ipykernel_59252/2194896529.py:17: RuntimeWarning: divide by zero encountered in log10\n",
      "  gls[pos-1][1] = max(np.log10(1 - 10**(-pls[k]/10)),-20)\n",
      "/var/folders/6l/0qdfm_q1033f77sclr7_5nrm0000gn/T/ipykernel_59252/2194896529.py:21: RuntimeWarning: divide by zero encountered in log10\n",
      "  gls[pos-1][3] = max(np.log10(1- 10**(-pls[k]/10)),-20)\n",
      "/var/folders/6l/0qdfm_q1033f77sclr7_5nrm0000gn/T/ipykernel_59252/2194896529.py:25: RuntimeWarning: divide by zero encountered in log10\n",
      "  gls[pos-1][j] = max(np.log10(1- 10**(-pls[k]/10)),-20)\n"
     ]
    },
    {
     "data": {
      "image/png": "[encoded data removed]",
      "text/plain": [
       "<Figure size 432x288 with 1 Axes>"
      ]
     },
     "metadata": {
      "needs_background": "light"
     },
     "output_type": "display_data"
    },
    {
     "name": "stderr",
     "output_type": "stream",
     "text": [
      "/var/folders/6l/0qdfm_q1033f77sclr7_5nrm0000gn/T/ipykernel_59252/2194896529.py:19: RuntimeWarning: divide by zero encountered in log10\n",
      "  gls[pos-1][2] = max(np.log10(1- 10**(-pls[k]/10)),-20)\n",
      "/var/folders/6l/0qdfm_q1033f77sclr7_5nrm0000gn/T/ipykernel_59252/2194896529.py:15: RuntimeWarning: divide by zero encountered in log10\n",
      "  gls[pos-1][0] = max(np.log10(1- 10**(-pls[k]/10)),-20)\n",
      "/var/folders/6l/0qdfm_q1033f77sclr7_5nrm0000gn/T/ipykernel_59252/2194896529.py:17: RuntimeWarning: divide by zero encountered in log10\n",
      "  gls[pos-1][1] = max(np.log10(1 - 10**(-pls[k]/10)),-20)\n",
      "/var/folders/6l/0qdfm_q1033f77sclr7_5nrm0000gn/T/ipykernel_59252/2194896529.py:21: RuntimeWarning: divide by zero encountered in log10\n",
      "  gls[pos-1][3] = max(np.log10(1- 10**(-pls[k]/10)),-20)\n",
      "/var/folders/6l/0qdfm_q1033f77sclr7_5nrm0000gn/T/ipykernel_59252/2194896529.py:25: RuntimeWarning: divide by zero encountered in log10\n",
      "  gls[pos-1][j] = max(np.log10(1- 10**(-pls[k]/10)),-20)\n"
     ]
    },
    {
     "data": {
      "image/png": "[encoded data removed]",
      "text/plain": [
       "<Figure size 432x288 with 1 Axes>"
      ]
     },
     "metadata": {
      "needs_background": "light"
     },
     "output_type": "display_data"
    },
    {
     "name": "stderr",
     "output_type": "stream",
     "text": [
      "/var/folders/6l/0qdfm_q1033f77sclr7_5nrm0000gn/T/ipykernel_59252/2194896529.py:19: RuntimeWarning: divide by zero encountered in log10\n",
      "  gls[pos-1][2] = max(np.log10(1- 10**(-pls[k]/10)),-20)\n",
      "/var/folders/6l/0qdfm_q1033f77sclr7_5nrm0000gn/T/ipykernel_59252/2194896529.py:15: RuntimeWarning: divide by zero encountered in log10\n",
      "  gls[pos-1][0] = max(np.log10(1- 10**(-pls[k]/10)),-20)\n",
      "/var/folders/6l/0qdfm_q1033f77sclr7_5nrm0000gn/T/ipykernel_59252/2194896529.py:17: RuntimeWarning: divide by zero encountered in log10\n",
      "  gls[pos-1][1] = max(np.log10(1 - 10**(-pls[k]/10)),-20)\n",
      "/var/folders/6l/0qdfm_q1033f77sclr7_5nrm0000gn/T/ipykernel_59252/2194896529.py:21: RuntimeWarning: divide by zero encountered in log10\n",
      "  gls[pos-1][3] = max(np.log10(1- 10**(-pls[k]/10)),-20)\n",
      "/var/folders/6l/0qdfm_q1033f77sclr7_5nrm0000gn/T/ipykernel_59252/2194896529.py:25: RuntimeWarning: divide by zero encountered in log10\n",
      "  gls[pos-1][j] = max(np.log10(1- 10**(-pls[k]/10)),-20)\n"
     ]
    },
    {
     "data": {
      "image/png": "[encoded data removed]",
      "text/plain": [
       "<Figure size 432x288 with 1 Axes>"
      ]
     },
     "metadata": {
      "needs_background": "light"
     },
     "output_type": "display_data"
    },
    {
     "name": "stderr",
     "output_type": "stream",
     "text": [
      "/var/folders/6l/0qdfm_q1033f77sclr7_5nrm0000gn/T/ipykernel_59252/2194896529.py:19: RuntimeWarning: divide by zero encountered in log10\n",
      "  gls[pos-1][2] = max(np.log10(1- 10**(-pls[k]/10)),-20)\n",
      "/var/folders/6l/0qdfm_q1033f77sclr7_5nrm0000gn/T/ipykernel_59252/2194896529.py:15: RuntimeWarning: divide by zero encountered in log10\n",
      "  gls[pos-1][0] = max(np.log10(1- 10**(-pls[k]/10)),-20)\n",
      "/var/folders/6l/0qdfm_q1033f77sclr7_5nrm0000gn/T/ipykernel_59252/2194896529.py:17: RuntimeWarning: divide by zero encountered in log10\n",
      "  gls[pos-1][1] = max(np.log10(1 - 10**(-pls[k]/10)),-20)\n",
      "/var/folders/6l/0qdfm_q1033f77sclr7_5nrm0000gn/T/ipykernel_59252/2194896529.py:21: RuntimeWarning: divide by zero encountered in log10\n",
      "  gls[pos-1][3] = max(np.log10(1- 10**(-pls[k]/10)),-20)\n",
      "/var/folders/6l/0qdfm_q1033f77sclr7_5nrm0000gn/T/ipykernel_59252/2194896529.py:25: RuntimeWarning: divide by zero encountered in log10\n",
      "  gls[pos-1][j] = max(np.log10(1- 10**(-pls[k]/10)),-20)\n"
     ]
    },
    {
     "data": {
      "image/png": "[encoded data removed]",
      "text/plain": [
       "<Figure size 432x288 with 1 Axes>"
      ]
     },
     "metadata": {
      "needs_background": "light"
     },
     "output_type": "display_data"
    },
    {
     "name": "stderr",
     "output_type": "stream",
     "text": [
      "/var/folders/6l/0qdfm_q1033f77sclr7_5nrm0000gn/T/ipykernel_59252/2194896529.py:19: RuntimeWarning: divide by zero encountered in log10\n",
      "  gls[pos-1][2] = max(np.log10(1- 10**(-pls[k]/10)),-20)\n",
      "/var/folders/6l/0qdfm_q1033f77sclr7_5nrm0000gn/T/ipykernel_59252/2194896529.py:15: RuntimeWarning: divide by zero encountered in log10\n",
      "  gls[pos-1][0] = max(np.log10(1- 10**(-pls[k]/10)),-20)\n",
      "/var/folders/6l/0qdfm_q1033f77sclr7_5nrm0000gn/T/ipykernel_59252/2194896529.py:17: RuntimeWarning: divide by zero encountered in log10\n",
      "  gls[pos-1][1] = max(np.log10(1 - 10**(-pls[k]/10)),-20)\n",
      "/var/folders/6l/0qdfm_q1033f77sclr7_5nrm0000gn/T/ipykernel_59252/2194896529.py:21: RuntimeWarning: divide by zero encountered in log10\n",
      "  gls[pos-1][3] = max(np.log10(1- 10**(-pls[k]/10)),-20)\n",
      "/var/folders/6l/0qdfm_q1033f77sclr7_5nrm0000gn/T/ipykernel_59252/2194896529.py:25: RuntimeWarning: divide by zero encountered in log10\n",
      "  gls[pos-1][j] = max(np.log10(1- 10**(-pls[k]/10)),-20)\n"
     ]
    },
    {
     "data": {
      "image/png": "[encoded data removed]",
      "text/plain": [
       "<Figure size 432x288 with 1 Axes>"
      ]
     },
     "metadata": {
      "needs_background": "light"
     },
     "output_type": "display_data"
    },
    {
     "name": "stderr",
     "output_type": "stream",
     "text": [
      "/var/folders/6l/0qdfm_q1033f77sclr7_5nrm0000gn/T/ipykernel_59252/2194896529.py:19: RuntimeWarning: divide by zero encountered in log10\n",
      "  gls[pos-1][2] = max(np.log10(1- 10**(-pls[k]/10)),-20)\n",
      "/var/folders/6l/0qdfm_q1033f77sclr7_5nrm0000gn/T/ipykernel_59252/2194896529.py:15: RuntimeWarning: divide by zero encountered in log10\n",
      "  gls[pos-1][0] = max(np.log10(1- 10**(-pls[k]/10)),-20)\n",
      "/var/folders/6l/0qdfm_q1033f77sclr7_5nrm0000gn/T/ipykernel_59252/2194896529.py:17: RuntimeWarning: divide by zero encountered in log10\n",
      "  gls[pos-1][1] = max(np.log10(1 - 10**(-pls[k]/10)),-20)\n",
      "/var/folders/6l/0qdfm_q1033f77sclr7_5nrm0000gn/T/ipykernel_59252/2194896529.py:21: RuntimeWarning: divide by zero encountered in log10\n",
      "  gls[pos-1][3] = max(np.log10(1- 10**(-pls[k]/10)),-20)\n",
      "/var/folders/6l/0qdfm_q1033f77sclr7_5nrm0000gn/T/ipykernel_59252/2194896529.py:25: RuntimeWarning: divide by zero encountered in log10\n",
      "  gls[pos-1][j] = max(np.log10(1- 10**(-pls[k]/10)),-20)\n"
     ]
    },
    {
     "data": {
      "image/png": "[encoded data removed]",
      "text/plain": [
       "<Figure size 432x288 with 1 Axes>"
      ]
     },
     "metadata": {
      "needs_background": "light"
     },
     "output_type": "display_data"
    },
    {
     "name": "stderr",
     "output_type": "stream",
     "text": [
      "/var/folders/6l/0qdfm_q1033f77sclr7_5nrm0000gn/T/ipykernel_59252/2194896529.py:19: RuntimeWarning: divide by zero encountered in log10\n",
      "  gls[pos-1][2] = max(np.log10(1- 10**(-pls[k]/10)),-20)\n",
      "/var/folders/6l/0qdfm_q1033f77sclr7_5nrm0000gn/T/ipykernel_59252/2194896529.py:15: RuntimeWarning: divide by zero encountered in log10\n",
      "  gls[pos-1][0] = max(np.log10(1- 10**(-pls[k]/10)),-20)\n",
      "/var/folders/6l/0qdfm_q1033f77sclr7_5nrm0000gn/T/ipykernel_59252/2194896529.py:17: RuntimeWarning: divide by zero encountered in log10\n",
      "  gls[pos-1][1] = max(np.log10(1 - 10**(-pls[k]/10)),-20)\n",
      "/var/folders/6l/0qdfm_q1033f77sclr7_5nrm0000gn/T/ipykernel_59252/2194896529.py:21: RuntimeWarning: divide by zero encountered in log10\n",
      "  gls[pos-1][3] = max(np.log10(1- 10**(-pls[k]/10)),-20)\n",
      "/var/folders/6l/0qdfm_q1033f77sclr7_5nrm0000gn/T/ipykernel_59252/2194896529.py:25: RuntimeWarning: divide by zero encountered in log10\n",
      "  gls[pos-1][j] = max(np.log10(1- 10**(-pls[k]/10)),-20)\n"
     ]
    },
    {
     "data": {
      "image/png": "[encoded data removed]",
      "text/plain": [
       "<Figure size 432x288 with 1 Axes>"
      ]
     },
     "metadata": {
      "needs_background": "light"
     },
     "output_type": "display_data"
    }
   ],
   "source": [
    "for i in range(12):\n",
    "    v = glhap(f\"gargammel{i+1}.vcf\", False)\n",
    "    x = [s[0] for s in v]\n",
    "    y = np.array([s[1] for s in v])\n",
    "    plt.plot(x, y)\n",
    "    plt.xticks(rotation=90)\n",
    "    plt.savefig(f'gargammel{i+1}')\n",
    "    plt.show()"
   ]
  },
  {
   "cell_type": "code",
   "execution_count": 207,
   "metadata": {},
   "outputs": [
    {
     "data": {
      "text/plain": [
       "<BarContainer object of 10 artists>"
      ]
     },
     "execution_count": 207,
     "metadata": {},
     "output_type": "execute_result"
    },
    {
     "data": {
      "image/png": "[encoded data removed]",
      "text/plain": [
       "<Figure size 432x288 with 1 Axes>"
      ]
     },
     "metadata": {
      "needs_background": "light"
     },
     "output_type": "display_data"
    }
   ],
   "source": [
    "plt.bar(x,y)"
   ]
  },
  {
   "cell_type": "code",
   "execution_count": 208,
   "metadata": {},
   "outputs": [
    {
     "name": "stdout",
     "output_type": "stream",
     "text": [
      "mt-MRCA (RSRS),lh =  14941\n",
      "L1'2'3'4'5'6,lh =  14941\n",
      "L2'3'4'5'6,lh =  14941\n",
      "L2'3'4'6,lh =  14941\n",
      "L3'4'6,lh =  14941\n",
      "L3'4,lh =  14941\n",
      "L3,lh =  14941\n",
      "L3b'f,lh =  14941\n",
      "L3c'd,lh =  14941\n",
      "N,lh =  14941\n",
      "14941\n"
     ]
    },
    {
     "data": {
      "text/plain": [
       "[('mt-MRCA (RSRS)', 14941),\n",
       " (\"L1'2'3'4'5'6\", 14941),\n",
       " (\"L2'3'4'5'6\", 14941),\n",
       " (\"L2'3'4'6\", 14941),\n",
       " (\"L3'4'6\", 14941),\n",
       " (\"L3'4\", 14941),\n",
       " ('L3', 14941),\n",
       " (\"L3b'f\", 14941),\n",
       " (\"L3c'd\", 14941),\n",
       " ('N', 14941)]"
      ]
     },
     "execution_count": 208,
     "metadata": {},
     "output_type": "execute_result"
    }
   ],
   "source": [
    "glhap(\"gargammel12.vcf\")"
   ]
  },
  {
   "cell_type": "code",
   "execution_count": 62,
   "metadata": {},
   "outputs": [
    {
     "name": "stdout",
     "output_type": "stream",
     "text": [
      "N1b1a2,lh =  5019\n",
      "N1b1a,lh =  5274\n",
      "N1b1a2a,lh =  5274\n",
      "-,lh =  5274\n",
      "-,lh =  5274\n",
      "N1b1a1,lh =  5529\n",
      "N1b1a3,lh =  5529\n",
      "N1b1a5,lh =  5529\n",
      "N1b1a7,lh =  5529\n",
      "N1b1a8,lh =  5529\n",
      "9312\n"
     ]
    },
    {
     "data": {
      "text/plain": [
       "[('N1b1a2', 5019),\n",
       " ('N1b1a', 5274),\n",
       " ('N1b1a2a', 5274),\n",
       " ('-', 5274),\n",
       " ('-', 5274),\n",
       " ('N1b1a1', 5529),\n",
       " ('N1b1a3', 5529),\n",
       " ('N1b1a5', 5529),\n",
       " ('N1b1a7', 5529),\n",
       " ('N1b1a8', 5529)]"
      ]
     },
     "execution_count": 62,
     "metadata": {},
     "output_type": "execute_result"
    }
   ],
   "source": [
    "glhap(\"vcf/in2.vcf.gz\")"
   ]
  },
  {
   "cell_type": "code",
   "execution_count": 17,
   "metadata": {},
   "outputs": [],
   "source": [
    "# INSERTIONS\n",
    "# insertions = []\n",
    "# for rec in bcf_in.fetch():\n",
    "#     if (rec.info['INDEL']== True):\n",
    "# #         if len(rec.ref)== 1 and len(rec.alts[0]) == 2:\n",
    "#             insertions.append([rec.pos + 1, -rec.samples.values()[0]['PL'][-1]/10])"
   ]
  },
  {
   "cell_type": "code",
   "execution_count": 18,
   "metadata": {},
   "outputs": [],
   "source": [
    "# Deletions\n",
    "# deletions = []\n",
    "# for rec in bcf_in.fetch():\n",
    "#     if (rec.info['INDEL']== True):\n",
    "#         if len(rec.ref)== 2 and rec.ref[-1]!='N' and len(rec.alts[0]) == 1:\n",
    "#             deletions.append([rec.pos + 1, -rec.samples.values()[0]['PL'][-1]/10])"
   ]
  },
  {
   "cell_type": "code",
   "execution_count": null,
   "metadata": {},
   "outputs": [],
   "source": [
    "for i in range(1,12):\n",
    "    print(f'file: in{i}.vcf.gz')\n",
    "    glhap(f\"vcf/in{i}.vcf.gz\")\n",
    "    print()"
   ]
  },
  {
   "cell_type": "code",
   "execution_count": 20,
   "metadata": {},
   "outputs": [],
   "source": [
    "def glhap_aposterior(bcf_in_str):\n",
    "    with open('array/array.json') as f:\n",
    "        d = json.load(f) # d - это список python\n",
    "    for i in d:\n",
    "        i[0] += 1\n",
    "    d[0][0]=0\n",
    "\n",
    "    bcf_in = VariantFile(bcf_in_str) \n",
    "    ref = FastaFile('refchrm.fa')\n",
    "    a = Node(d[0][1],[])\n",
    "    make_tree(d,a,0)\n",
    "    ref_lh = calculate_likelihood(bcf_in, ref)\n",
    "    gls = get_log_monozygous(bcf_in)\n",
    "    prunung(a, ref, ref_lh, gls)\n",
    "    key = lambda x: x.lh\n",
    "    S = list()\n",
    "    for i in PreOrderIter(a):\n",
    "        S.append(i)\n",
    "    S.sort(key = key,reverse=True)\n",
    "    \n",
    "    aposterior_divisor = sum([2**S[i].lh for i in range(len(S))])\n",
    "    \n",
    "    return [2**S[i].lh/aposterior_divisor for i in range(10)]\n",
    "    \n"
   ]
  },
  {
   "cell_type": "code",
   "execution_count": 28,
   "metadata": {},
   "outputs": [
    {
     "name": "stdout",
     "output_type": "stream",
     "text": [
      "A,lh =  -160.2000000000089\n",
      "-,lh =  -160.2000000000089\n",
      "-,lh =  -164.4000000000089\n",
      "-,lh =  -164.4000000000089\n",
      "A8,lh =  -166.4000000000089\n",
      "A21,lh =  -168.9000000000089\n",
      "A1,lh =  -170.4000000000089\n",
      "A25,lh =  -170.4000000000089\n",
      "A8a,lh =  -172.4000000000089\n",
      "-,lh =  -175.4000000000089\n"
     ]
    }
   ],
   "source": [
    "glhap(f\"cov2.vcf\")"
   ]
  },
  {
   "cell_type": "code",
   "execution_count": 203,
   "metadata": {},
   "outputs": [],
   "source": [
    "import matplotlib.pyplot as plt"
   ]
  },
  {
   "cell_type": "code",
   "execution_count": 75,
   "metadata": {},
   "outputs": [
    {
     "data": {
      "text/plain": [
       "<BarContainer object of 2 artists>"
      ]
     },
     "execution_count": 75,
     "metadata": {},
     "output_type": "execute_result"
    },
    {
     "data": {
      "image/png": "[encoded data removed]",
      "text/plain": [
       "<Figure size 432x288 with 1 Axes>"
      ]
     },
     "metadata": {
      "needs_background": "light"
     },
     "output_type": "display_data"
    }
   ],
   "source": [
    "plt.bar([1,2],[3,4])"
   ]
  },
  {
   "cell_type": "markdown",
   "metadata": {},
   "source": [
    "Это надо хитрее сделать, нужно меньше глубину покрытия сделать, тогда будет что-то похожее на правду"
   ]
  },
  {
   "cell_type": "code",
   "execution_count": 84,
   "metadata": {},
   "outputs": [
    {
     "data": {
      "image/png": "[encoded data removed]",
      "text/plain": [
       "<Figure size 432x288 with 1 Axes>"
      ]
     },
     "metadata": {
      "needs_background": "light"
     },
     "output_type": "display_data"
    },
    {
     "data": {
      "image/png": "[encoded data removed]",
      "text/plain": [
       "<Figure size 432x288 with 1 Axes>"
      ]
     },
     "metadata": {
      "needs_background": "light"
     },
     "output_type": "display_data"
    },
    {
     "data": {
      "image/png": "[encoded data removed]",
      "text/plain": [
       "<Figure size 432x288 with 1 Axes>"
      ]
     },
     "metadata": {
      "needs_background": "light"
     },
     "output_type": "display_data"
    }
   ],
   "source": [
    "plt.plot([x[1] for x in s3])\n",
    "plt.xlabel('haplogroup')\n",
    "plt.ylabel('log-likelihood')\n",
    "plt.show()\n",
    "# plt.savefig('cov3')\n",
    "plt.plot([x[1] for x in s5])\n",
    "plt.xlabel('haplogroup')\n",
    "plt.ylabel('log-likelihood')\n",
    "plt.show()\n",
    "# plt.savefig('cov5')\n",
    "plt.plot([x[1] for x in s10])\n",
    "plt.xlabel('haplogroup')\n",
    "plt.ylabel('log-likelihood')\n",
    "plt.show();\n",
    "# plt.savefig('cov10')"
   ]
  },
  {
   "cell_type": "code",
   "execution_count": null,
   "metadata": {},
   "outputs": [],
   "source": []
  },
  {
   "cell_type": "code",
   "execution_count": null,
   "metadata": {},
   "outputs": [],
   "source": []
  }
 ],
 "metadata": {
  "kernelspec": {
   "display_name": "Python 3 (ipykernel)",
   "language": "python",
   "name": "python3"
  },
  "language_info": {
   "codemirror_mode": {
    "name": "ipython",
    "version": 3
   },
   "file_extension": ".py",
   "mimetype": "text/x-python",
   "name": "python",
   "nbconvert_exporter": "python",
   "pygments_lexer": "ipython3",
   "version": "3.10.5"
  }
 },
 "nbformat": 4,
 "nbformat_minor": 4
}
