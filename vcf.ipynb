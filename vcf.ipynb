{
 "cells": [
  {
   "cell_type": "code",
   "execution_count": null,
   "metadata": {},
   "outputs": [],
   "source": [
    "from tree_construct import *\n",
    "from likelihood_calculation import *\n",
    "from pysam import VariantFile, FastaFile\n",
    "import matplotlib.pyplot as plt"
   ]
  },
  {
   "cell_type": "code",
   "execution_count": null,
   "metadata": {},
   "outputs": [],
   "source": [
    "# import argparse\n",
    "# parser = argparse.ArgumentParser(description='Calculation of haplogroups')\n",
    "# parser.add_argument('tree', type=str, help='haplogroup tree')\n",
    "# parser.add_argument('ref', type=str, help='reference fasta')\n",
    "# parser.add_argument('vcf', type=str, help='vcf file of mtdna')\n",
    "# args = parser.parse_args()\n",
    "\n",
    "\n",
    "# with open(args.tree) as f:\n",
    "#     d = json.load(f) # d - это список python\n",
    "# #     print(d)\n",
    "# for i in d:\n",
    "#     i[0] += 1\n",
    "#     d[0][0]=0\n",
    "\n",
    "# bcf_in = VariantFile(args.vcf) \n",
    "# ref = FastaFile(args.ref)"
   ]
  },
  {
   "cell_type": "code",
   "execution_count": null,
   "metadata": {},
   "outputs": [],
   "source": [
    "def glhap(bcf_in_str, comment=True):\n",
    "    with open('array/array.json') as f:\n",
    "        d = json.load(f) # d - это список python\n",
    "    for i in d:\n",
    "        i[0] += 1\n",
    "    d[0][0]=0\n",
    "\n",
    "    bcf_in = VariantFile(bcf_in_str) \n",
    "    ref = FastaFile('refchrm.fa')\n",
    "    a = Node(d[0][1],[])\n",
    "    make_tree(d,a,0)\n",
    "    ref_lh = calculate_likelihood(bcf_in, ref)\n",
    "    gls = get_log_monozygous(bcf_in)\n",
    "    prunung(a, ref, ref_lh, gls)\n",
    "    key = lambda x: x.lh\n",
    "    S = list()\n",
    "    for i in PreOrderIter(a):\n",
    "        S.append(i)\n",
    "    S.sort(key = key,reverse=False)\n",
    "    if comment:\n",
    "        for i in range(10):\n",
    "            print(S[i].name+\",lh = \",S[i].lh)\n",
    "    \n",
    "    # print(ref_lh)\n",
    "    return [(S[i].name, S[i].lh) for i in range(10)]"
   ]
  },
  {
   "cell_type": "code",
   "execution_count": null,
   "metadata": {},
   "outputs": [],
   "source": [
    "glhap(\"gargammelhigh.vcf\")"
   ]
  },
  {
   "cell_type": "code",
   "execution_count": null,
   "metadata": {},
   "outputs": [],
   "source": [
    "# INSERTIONS\n",
    "# insertions = []\n",
    "# for rec in bcf_in.fetch():\n",
    "#     if (rec.info['INDEL']== True):\n",
    "# #         if len(rec.ref)== 1 and len(rec.alts[0]) == 2:\n",
    "#             insertions.append([rec.pos + 1, -rec.samples.values()[0]['PL'][-1]/10])"
   ]
  },
  {
   "cell_type": "code",
   "execution_count": null,
   "metadata": {},
   "outputs": [],
   "source": [
    "# Deletions\n",
    "# deletions = []\n",
    "# for rec in bcf_in.fetch():\n",
    "#     if (rec.info['INDEL']== True):\n",
    "#         if len(rec.ref)== 2 and rec.ref[-1]!='N' and len(rec.alts[0]) == 1:\n",
    "#             deletions.append([rec.pos + 1, -rec.samples.values()[0]['PL'][-1]/10])"
   ]
  },
  {
   "cell_type": "code",
   "execution_count": null,
   "metadata": {},
   "outputs": [],
   "source": [
    "def glhap_aposterior(bcf_in_str):\n",
    "    with open('array/array.json') as f:\n",
    "        d = json.load(f) # d - это список python\n",
    "    for i in d:\n",
    "        i[0] += 1\n",
    "    d[0][0]=0\n",
    "\n",
    "    bcf_in = VariantFile(bcf_in_str) \n",
    "    ref = FastaFile('refchrm.fa')\n",
    "    a = Node(d[0][1],[])\n",
    "    make_tree(d,a,0)\n",
    "    ref_lh = calculate_likelihood(bcf_in, ref)\n",
    "    gls = get_log_monozygous(bcf_in)\n",
    "    prunung(a, ref, ref_lh, gls)\n",
    "    key = lambda x: x.lh\n",
    "    S = list()\n",
    "    for i in PreOrderIter(a):\n",
    "        S.append(i)\n",
    "    S.sort(key = key,reverse=True)\n",
    "    \n",
    "    aposterior_divisor = sum([2**S[i].lh for i in range(len(S))])\n",
    "    \n",
    "    return [2**S[i].lh/aposterior_divisor for i in range(10)]\n",
    "    \n"
   ]
  }
 ],
 "metadata": {
  "kernelspec": {
   "display_name": "Python 3 (ipykernel)",
   "language": "python",
   "name": "python3"
  },
  "language_info": {
   "codemirror_mode": {
    "name": "ipython",
    "version": 3
   },
   "file_extension": ".py",
   "mimetype": "text/x-python",
   "name": "python",
   "nbconvert_exporter": "python",
   "pygments_lexer": "ipython3",
   "version": "3.10.5"
  }
 },
 "nbformat": 4,
 "nbformat_minor": 4
}
