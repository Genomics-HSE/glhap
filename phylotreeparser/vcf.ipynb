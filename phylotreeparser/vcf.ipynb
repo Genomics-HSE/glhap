{
 "cells": [
  {
   "cell_type": "code",
   "execution_count": 1,
   "metadata": {},
   "outputs": [],
   "source": [
    "from anytree import NodeMixin, RenderTree\n",
    "import numpy as np\n",
    "import pysam\n",
    "import allel\n",
    "from pysam import VariantFile, FastaFile\n",
    "from anytree import find_by_attr, PreOrderIter\n",
    "import json"
   ]
  },
  {
   "cell_type": "code",
   "execution_count": 2,
   "metadata": {},
   "outputs": [],
   "source": [
    "class Node(NodeMixin):\n",
    "    def __init__(self, name, snps=[],insertion=[],deletion = [], parent=None, children=None):\n",
    "        self.name = name\n",
    "        self.snps = snps\n",
    "        self.insertion = insertion\n",
    "        self.deletion = deletion\n",
    "        self.parent = parent\n",
    "        self.lh = 0\n",
    "        if children:  # set children only if given\n",
    "             self.children = children\n",
    "    \n",
    "    def __repr__(self):\n",
    "             return self.name +\" \"+ str(self.lh)\n",
    "    def __str__(self):\n",
    "        return self.name"
   ]
  },
  {
   "cell_type": "code",
   "execution_count": 3,
   "metadata": {},
   "outputs": [],
   "source": [
    "def get_snp(node):\n",
    "    '''\n",
    "    Returns snps fron node: Node\n",
    "    \n",
    "    Paramters:\n",
    "    node : Node\n",
    "    node in phylogenetic tree\n",
    "    \n",
    "    Returns:\n",
    "    list of lists of [old_nucleotide,new_nucleotid, position]\n",
    "    '''\n",
    "    snp = list()\n",
    "    atgc = set(['A','T','G','C','a','t','g','c'])\n",
    "    for i in range(2,len(node)):\n",
    "        if node[i][0] in atgc and node[i][-1] in atgc:\n",
    "            snp.append([node[i][0],node[i][-1],int(node[i][1:-1])])\n",
    "    return snp"
   ]
  },
  {
   "cell_type": "code",
   "execution_count": 4,
   "metadata": {},
   "outputs": [],
   "source": [
    "def get_insertion(node):\n",
    "    ins = set()\n",
    "    for i in range(2,len(node)):\n",
    "        if '.' in node[i]:\n",
    "            dot_pos = node[i].find('.')\n",
    "            pos = int(node[i][1:dot_pos])\n",
    "#             size = ''.join(k for k in node[i][dot_pos+1:] if  k.isdigit())\n",
    "#             insert = ''.join(k for k in node[i][dot_pos+1:] if  k.isalpha())\n",
    "            ins.add(pos)\n",
    "    return ins"
   ]
  },
  {
   "cell_type": "code",
   "execution_count": 5,
   "metadata": {},
   "outputs": [],
   "source": [
    "def get_deletion(node):\n",
    "    deletion = set()\n",
    "    for i in range(2,len(node)):\n",
    "        if node[i][-1]=='d':\n",
    "            if node[i][0].isalpha():\n",
    "                deletion.add(int(node[i][1:-1]))\n",
    "            else:\n",
    "                dash_pos = node[i].find('-')\n",
    "                deletion.add(int(node[i][1:dash_pos]))\n",
    "    return deletion"
   ]
  },
  {
   "cell_type": "code",
   "execution_count": 6,
   "metadata": {},
   "outputs": [],
   "source": [
    "def make_tree(tree,node,pos=0):    \n",
    "    '''\n",
    "    Initializate tree structure of phylogenetic tree\n",
    "    Parameters:\n",
    "    tree: list\n",
    "    list from phylotree-parse\n",
    "    node: Node\n",
    "    root node\n",
    "    pos: int\n",
    "    unnecessary parameter. position of current node in tree list\n",
    "    \n",
    "    '''\n",
    "\n",
    "    \n",
    "    posit = pos + 1\n",
    "    i = posit\n",
    "    while i<len(tree) and tree[i][0] >= tree[pos][0]+1:\n",
    "        if tree[i][0] == tree[pos][0]+1:\n",
    "#             print(node.name,tree[i][1])\n",
    "            snps = get_snp(tree[i])\n",
    "            insertion = get_insertion(tree[i])\n",
    "            tmp = Node(tree[i][1],snps,insertion,parent=node)\n",
    "            \n",
    "            make_tree(tree,tmp,i)\n",
    "\n",
    "        i += 1        "
   ]
  },
  {
   "cell_type": "code",
   "execution_count": 7,
   "metadata": {},
   "outputs": [],
   "source": [
    "def get_log_monozygous(bcf: VariantFile):\n",
    "    '''\n",
    "    PL scores for bcf\n",
    "    \n",
    "    '''\n",
    "    gls = np.full((16569,4),-1)\n",
    "    for rec in bcf.fetch():\n",
    "        pos = rec.pos\n",
    "        pls = rec.samples.values()[0]['PL']\n",
    "        alt = rec.alleles\n",
    "        k = 0\n",
    "        s = 2\n",
    "        for i in range(len(alt)):\n",
    "            if alt[i] == 'A':\n",
    "                gls[pos-1][0] = pls[k]\n",
    "            elif alt[i] == 'T':\n",
    "                gls[pos-1][1] = pls[k]\n",
    "            elif alt[i] == 'G':\n",
    "                gls[pos-1][2] = pls[k]\n",
    "            elif alt[i] == 'C':\n",
    "                gls[pos-1][3] = pls[k]\n",
    "            elif alt[i] == '<*>':\n",
    "                for j in range(4):\n",
    "                    if gls[pos-1][j] == -1:\n",
    "                        gls[pos-1][j] = pls[k]\n",
    "            k += s\n",
    "            s += 1\n",
    "    return -gls/10"
   ]
  },
  {
   "cell_type": "code",
   "execution_count": 8,
   "metadata": {},
   "outputs": [],
   "source": [
    "def call_likelihood(gls,node,ref,insertions,deletions,lh=0):\n",
    "    '''\n",
    "    Calculates likelihood for node considering parent node likelihood.\n",
    "    \n",
    "    Parameters:\n",
    "    gls : np.array\n",
    "    array of snp likelihoods\n",
    "    node: Node\n",
    "    haplogroup node\n",
    "    ref: FastaFile\n",
    "    reference genome\n",
    "    lh: float\n",
    "    genotype likelihood for parent haplogroup\n",
    "    \n",
    "    Returns\n",
    "    \n",
    "    lh : float\n",
    "    likelihood of haplogroup\n",
    "    '''\n",
    "    snps = node.snps\n",
    "    for snp in snps:\n",
    "#       snp = [old, new, pos]\n",
    "        pos = snp[2]-1\n",
    "        if snp[1].capitalize() == 'A':\n",
    "            lh = lh - calculate_pl(gls,ref, pos)+ gls[pos,0]\n",
    "#             print(1,snp[1].capitalize())\n",
    "        if snp[1].capitalize() == 'T':\n",
    "            lh = lh - calculate_pl(gls,ref, pos)+ gls[pos,1]\n",
    "#             print(2,snp[1].capitalize())\n",
    "        if snp[1].capitalize() == 'G':\n",
    "            lh = lh - calculate_pl(gls,ref, pos)+ gls[pos,2]\n",
    "#             print(3,snp[1].capitalize())\n",
    "        if snp[1].capitalize() == 'C':\n",
    "            lh = lh - calculate_pl(gls,ref, pos)+ gls[pos,3]\n",
    "#             print(4,snp[1].capitalize())\n",
    "        \n",
    "    \n",
    "        for ins in insertions:\n",
    "            if ins[0] in node.insertion:\n",
    "#           ins = [pos,lh]\n",
    "                pos = ins[0]-1\n",
    "                lh = lh - calculate_pl(gls,ref,pos) + lh[1]\n",
    "\n",
    "        for delt in deletions:\n",
    "            if ins[0] in node.deletion:\n",
    "#           delt = [pos,lh]\n",
    "                pos = delt[0]-1\n",
    "                lh = lh - calculate_pl(gls,ref,pos) + delt[1]\n",
    "    return lh\n",
    "        \n",
    "    \n",
    "    "
   ]
  },
  {
   "cell_type": "code",
   "execution_count": 9,
   "metadata": {},
   "outputs": [],
   "source": [
    "def calculate_likelihood(vcf, ref):\n",
    "    '''\n",
    "    Calculates genotype likelihood against reference genome\n",
    "    \n",
    "    \n",
    "    Parameters:\n",
    "    -----------\n",
    "    vcf : VariantFile\n",
    "    vcf/bcf file\n",
    "    \n",
    "    ref: FastaFile\n",
    "    reference genome\n",
    "    --\n",
    "    Returns\n",
    "    -------\n",
    "    lh : float\n",
    "    likelihood against reference\n",
    "    '''\n",
    "    lh = 0\n",
    "    ref = ref.fetch('chrM')\n",
    "    gls = get_log_monozygous(vcf)\n",
    "#     gls[gls<0]=-10**6\n",
    "    for i in range(len(ref)):\n",
    "        if ref[i].capitalize() == 'A':\n",
    "            lh += gls[i,0]\n",
    "        if ref[i].capitalize() == 'T':\n",
    "            lh += gls[i,1]\n",
    "        if ref[i].capitalize() == 'G':\n",
    "            lh += gls[i,2]\n",
    "        if ref[i].capitalize() == 'C':\n",
    "            lh += gls[i,3]\n",
    "    return lh"
   ]
  },
  {
   "cell_type": "code",
   "execution_count": 10,
   "metadata": {},
   "outputs": [],
   "source": [
    "def prunung(node,ref,gls,deletions,insertions):\n",
    "    '''\n",
    "    Calculates genotype likelihood for each haplogroup in the tree\n",
    "    Parameters:\n",
    "    -----------\n",
    "    node: Node\n",
    "    root node in the tree structure\n",
    "    ref: FastaFile\n",
    "    reference file\n",
    "    gls: np.array\n",
    "    matrix of snp pl scores\n",
    "    '''\n",
    "    if node.parent == None:\n",
    "        node.lh = ref_lh\n",
    "    else:\n",
    "        node.lh = call_likelihood(gls,node,ref,insertions,deletions,node.parent.lh)\n",
    "    for i in node.children:\n",
    "        prunung(i,ref,gls,deletions,insertions)"
   ]
  },
  {
   "cell_type": "code",
   "execution_count": 11,
   "metadata": {},
   "outputs": [],
   "source": [
    "def calculate_pl(gls, ref,pos):\n",
    "    '''\n",
    "    Calculate pl score of certain position on reference\n",
    "    \n",
    "    Parameters:\n",
    "    -----------\n",
    "    gls : np.array\n",
    "    matrix of snp pl scores\n",
    "    ref: FastaFile\n",
    "    reference\n",
    "    pos: int\n",
    "    position\n",
    "    '''\n",
    "    lh = 0\n",
    "    ref = ref.fetch('chrM')\n",
    "#     gls = get_log_monozygous(vcf)\n",
    "    i = pos\n",
    "    if ref[i].capitalize() == 'A':\n",
    "        lh += gls[i,0]\n",
    "    if ref[i].capitalize() == 'T':\n",
    "        lh += gls[i,1]\n",
    "    if ref[i].capitalize() == 'G':\n",
    "        lh += gls[i,2]\n",
    "    if ref[i].capitalize() == 'C':\n",
    "        lh += gls[i,3]\n",
    "    return lh"
   ]
  },
  {
   "cell_type": "code",
   "execution_count": 12,
   "metadata": {},
   "outputs": [],
   "source": [
    "# import argparse\n",
    "# parser = argparse.ArgumentParser(description='Calculation of haplogroups')\n",
    "# parser.add_argument('tree', type=str, help='haplogroup tree')\n",
    "# parser.add_argument('ref', type=str, help='reference fasta')\n",
    "# parser.add_argument('vcf', type=str, help='vcf file of mtdna')\n",
    "# args = parser.parse_args()"
   ]
  },
  {
   "cell_type": "code",
   "execution_count": 13,
   "metadata": {},
   "outputs": [],
   "source": [
    "\n",
    "# with open(args.tree) as f:\n",
    "#     d = json.load(f) # d - это список python\n",
    "# #     print(d)\n",
    "# for i in d:\n",
    "#     i[0] += 1\n",
    "#     d[0][0]=0\n",
    "\n",
    "# bcf_in = VariantFile(args.vcf) \n",
    "# ref = FastaFile(args.ref)\n"
   ]
  },
  {
   "cell_type": "code",
   "execution_count": 14,
   "metadata": {},
   "outputs": [],
   "source": [
    "\n",
    "\n",
    "with open('PhyloTree.org-parser/array.json') as f:\n",
    "    d = json.load(f) # d - это список python\n",
    "#     print(d)\n",
    "for i in d:\n",
    "    i[0] += 1\n",
    "    d[0][0]=0\n",
    "\n",
    "bcf_in = VariantFile(\"PhyloTree.org-parser/out4.vcf\") \n",
    "ref = FastaFile('ref.fa')\n",
    "\n",
    "# print(d)"
   ]
  },
  {
   "cell_type": "code",
   "execution_count": 15,
   "metadata": {},
   "outputs": [],
   "source": [
    "a = Node(d[0][1],[])\n",
    "make_tree(d,a,0)"
   ]
  },
  {
   "cell_type": "code",
   "execution_count": 16,
   "metadata": {},
   "outputs": [],
   "source": [
    "ref_lh = calculate_likelihood(bcf_in,ref)"
   ]
  },
  {
   "cell_type": "code",
   "execution_count": 17,
   "metadata": {},
   "outputs": [],
   "source": [
    "# INSERTIONS\n",
    "insertions = []\n",
    "for rec in bcf_in.fetch():\n",
    "    if (rec.info['INDEL']== True):\n",
    "        if len(rec.ref)== 1 and len(rec.alts[0]) == 2:\n",
    "            insertions.append([rec.pos + 1, -rec.samples.values()[0]['PL'][-1]/10])"
   ]
  },
  {
   "cell_type": "code",
   "execution_count": 18,
   "metadata": {},
   "outputs": [],
   "source": [
    "# Deletions\n",
    "deletions = []\n",
    "for rec in bcf_in.fetch():\n",
    "    if (rec.info['INDEL']== True):\n",
    "        if len(rec.ref)== 2 and rec.ref[-1]!='N' and len(rec.alts[0]) == 1:\n",
    "            deletions.append([rec.pos + 1, -rec.samples.values()[0]['PL'][-1]/10])"
   ]
  },
  {
   "cell_type": "code",
   "execution_count": 19,
   "metadata": {},
   "outputs": [],
   "source": [
    "gls = get_log_monozygous(bcf_in)\n",
    "prunung(a,ref,gls,insertions,deletions)"
   ]
  },
  {
   "cell_type": "code",
   "execution_count": 20,
   "metadata": {},
   "outputs": [],
   "source": [
    "key = lambda x: x.lh"
   ]
  },
  {
   "cell_type": "code",
   "execution_count": 21,
   "metadata": {},
   "outputs": [],
   "source": [
    "S = list()\n",
    "for i in PreOrderIter(a):\n",
    "    S.append(i)"
   ]
  },
  {
   "cell_type": "code",
   "execution_count": 22,
   "metadata": {},
   "outputs": [],
   "source": [
    "S.sort(key = key,reverse=True)"
   ]
  },
  {
   "cell_type": "code",
   "execution_count": 23,
   "metadata": {},
   "outputs": [
    {
     "name": "stdout",
     "output_type": "stream",
     "text": [
      "L1b2,lh =  -1390.1999999999998\n",
      "L1b2a,lh =  -1441.1999999999998\n",
      "L1b,lh =  -1517.6999999999998\n",
      "L1b2'3,lh =  -1517.6999999999998\n",
      "L1b3,lh =  -1619.6999999999998\n",
      "L1b1,lh =  -1645.1999999999998\n",
      "-,lh =  -1645.1999999999998\n",
      "L1b1a,lh =  -1670.6999999999998\n",
      "L1b1a1'4,lh =  -1670.6999999999998\n",
      "L1b1a3,lh =  -1670.6999999999998\n"
     ]
    }
   ],
   "source": [
    "for i in range(10):\n",
    "    print(S[i].name+\",lh = \",S[i].lh)"
   ]
  },
  {
   "cell_type": "code",
   "execution_count": null,
   "metadata": {},
   "outputs": [],
   "source": []
  },
  {
   "cell_type": "code",
   "execution_count": null,
   "metadata": {},
   "outputs": [],
   "source": []
  }
 ],
 "metadata": {
  "kernelspec": {
   "display_name": "Python 3",
   "language": "python",
   "name": "python3"
  },
  "language_info": {
   "codemirror_mode": {
    "name": "ipython",
    "version": 3
   },
   "file_extension": ".py",
   "mimetype": "text/x-python",
   "name": "python",
   "nbconvert_exporter": "python",
   "pygments_lexer": "ipython3",
   "version": "3.8.3"
  }
 },
 "nbformat": 4,
 "nbformat_minor": 4
}
