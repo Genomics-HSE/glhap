{
 "cells": [
  {
   "cell_type": "code",
   "execution_count": 1,
   "id": "66760b24-07e2-4f25-8899-03b9fb435a4d",
   "metadata": {},
   "outputs": [],
   "source": [
    "import pysam\n",
    "import pandas as pd\n",
    "import io\n",
    "import os\n",
    "import glhap_app\n",
    "import random\n",
    "import matplotlib.pyplot as plt\n",
    "import numpy as np\n",
    "import subprocess"
   ]
  },
  {
   "cell_type": "code",
   "execution_count": 2,
   "id": "a53ee7f8-4f80-400e-a280-958ad56f51b3",
   "metadata": {},
   "outputs": [],
   "source": [
    "def get_mean_depth(fn):\n",
    "    stats = pd.read_csv(io.StringIO(subprocess.check_output(['samtools', 'coverage', fn]).decode()), sep=\"\\t\").iloc[0]\n",
    "    assert(stats[0] == 'chrM')\n",
    "    mean_depth = stats[6]\n",
    "    return mean_depth"
   ]
  },
  {
   "cell_type": "code",
   "execution_count": 3,
   "id": "c5066e44-d84f-45d2-a345-59c080eef822",
   "metadata": {},
   "outputs": [
    {
     "data": {
      "text/plain": [
       "4577.44"
      ]
     },
     "execution_count": 3,
     "metadata": {},
     "output_type": "execute_result"
    }
   ],
   "source": [
    "get_mean_depth('in1.bam')"
   ]
  },
  {
   "cell_type": "code",
   "execution_count": 4,
   "id": "e9ecd8ed-6113-498d-9582-18b10c0ea25f",
   "metadata": {},
   "outputs": [],
   "source": [
    "def downsample(fn, depth, original_depth=None):\n",
    "    if original_depth == None:\n",
    "        original_depth = get_mean_depth(fn)\n",
    "    prop = depth/original_depth\n",
    "    os.system(f'samtools view -b -s {prop + random.randint(1,1000)} {fn} > {fn[:-4]}.cov_{depth}.bam')"
   ]
  },
  {
   "cell_type": "code",
   "execution_count": 5,
   "id": "5ab19a77-dc7b-4b88-8f8e-1d9f16125187",
   "metadata": {},
   "outputs": [],
   "source": [
    "def haplogrep_result(vcf_fn):\n",
    "    os.system(f'haplogrep classify --input {vcf_fn} --output {vcf_fn[:-7]}.haplogrep.txt --format vcf > /dev/null')\n",
    "    with open(f'{vcf_fn[:-7]}.haplogrep.txt') as f:\n",
    "        s =f.readlines()\n",
    "    s = s[1].replace('\"','').split('\\t')[1].replace(' ','')\n",
    "    \n",
    "    return s"
   ]
  },
  {
   "cell_type": "code",
   "execution_count": 6,
   "id": "092b2c0e-23df-401f-9522-d467edef1c09",
   "metadata": {},
   "outputs": [],
   "source": [
    "def glhap_results(vcf_fn):\n",
    "    s = glhap_app.glhap('refchrm.fa', 'array/array.json', f'{vcf_fn}' )\n",
    "    s = s.splitlines()[1].split('|')[0].replace(' ','')\n",
    "    return s"
   ]
  },
  {
   "cell_type": "code",
   "execution_count": 40,
   "id": "c2a6eae4-d1cc-4dbe-aef3-b1a3f6d16cef",
   "metadata": {},
   "outputs": [],
   "source": [
    "files = [\n",
    "'HGDP00879.alt_bwamem_GRCh38DH.20181023.Russian.cram.bam',\n",
    "'HGDP00880.alt_bwamem_GRCh38DH.20181023.Russian.cram.bam',\n",
    "'HGDP00881.alt_bwamem_GRCh38DH.20181023.Russian.cram.bam',\n",
    "'HGDP00882.alt_bwamem_GRCh38DH.20181023.Russian.cram.bam',\n",
    "'HGDP00883.alt_bwamem_GRCh38DH.20181023.Russian.cram.bam',\n",
    "'HGDP00884.alt_bwamem_GRCh38DH.20181023.Russian.cram.bam',\n",
    "'HGDP00885.alt_bwamem_GRCh38DH.20181023.Russian.cram.bam',\n",
    "'HGDP00886.alt_bwamem_GRCh38DH.20181023.Russian.cram.bam',\n",
    "'HGDP00888.alt_bwamem_GRCh38DH.20181023.Russian.cram.bam',\n",
    "'HGDP00889.alt_bwamem_GRCh38DH.20181023.Russian.cram.bam',\n",
    "'HGDP00890.alt_bwamem_GRCh38DH.20181023.Russian.cram.bam',\n",
    "'HGDP00891.alt_bwamem_GRCh38DH.20181023.Russian.cram.bam',\n",
    "'HGDP00892.alt_bwamem_GRCh38DH.20181023.Russian.cram.bam',\n",
    "'HGDP00893.alt_bwamem_GRCh38DH.20181023.Russian.cram.bam',\n",
    "'HGDP00894.alt_bwamem_GRCh38DH.20181023.Russian.cram.bam',\n",
    "'HGDP00895.alt_bwamem_GRCh38DH.20181023.Russian.cram.bam',\n",
    "'HGDP00896.alt_bwamem_GRCh38DH.20181023.Russian.cram.bam',\n",
    "'HGDP00897.alt_bwamem_GRCh38DH.20181023.Russian.cram.bam',\n",
    "'HGDP00898.alt_bwamem_GRCh38DH.20181023.Russian.cram.bam',\n",
    "'HGDP00899.alt_bwamem_GRCh38DH.20181023.Russian.cram.bam',\n",
    "'HGDP00900.alt_bwamem_GRCh38DH.20181023.Russian.cram.bam',\n",
    "'HGDP00901.alt_bwamem_GRCh38DH.20181023.Russian.cram.bam',\n",
    "'HGDP00902.alt_bwamem_GRCh38DH.20181023.Russian.cram.bam',\n",
    "]"
   ]
  },
  {
   "cell_type": "code",
   "execution_count": 7,
   "id": "3b3dbccc-5e98-43c0-9d3c-04f76e1ef6ad",
   "metadata": {},
   "outputs": [],
   "source": [
    "def f(fn):\n",
    "    pysam.index(fn)\n",
    "    # individual = fn[:9]\n",
    "    individual = fn[:3]\n",
    "    if os.path.exists(individual) == False:\n",
    "        os.mkdir(individual)\n",
    "    stats = pd.read_csv(io.StringIO(pysam.coverage(fn)), sep=\"\\t\").iloc[0]\n",
    "    assert(stats[0] == 'chrM')\n",
    "    mean_depth = stats[6]\n",
    "    stats_list = []\n",
    "    for depth in depth_list:\n",
    "        cut_rate = depth/mean_depth\n",
    "        os.system(f'samtools view -b -s {cut_rate+np.ran} {fn} > {individual}/cov_{depth}.bam')\n",
    "        df = pd.read_csv(io.StringIO(pysam.coverage(f'{individual}/cov_{depth}.bam')), sep=\"\\t\").iloc[0]\n",
    "        df[0] =  f'{individual}/cov_{depth}'\n",
    "        stats_list.append(df)\n",
    "        df = pd.DataFrame(stats_list).reset_index(drop=True)\n",
    "        df.to_csv(f'{individual}/stats.csv')\n",
    "    return df\n",
    "    \n",
    "        "
   ]
  },
  {
   "cell_type": "code",
   "execution_count": 8,
   "id": "006a9826-4322-48eb-9a8b-7fb3c4b72f07",
   "metadata": {},
   "outputs": [],
   "source": [
    "def haplogrep_calc(fn):\n",
    "    os.system(f'bcftools mpileup -Oz -f refchrm.fa {fn} > {fn[:-4]}.mpileup.vcf.gz 2>/dev/null')\n",
    "    os.system(f'bcftools index {fn[:-4]}.mpileup.vcf.gz 2>/dev/null')\n",
    "    os.system(f'bcftools call -m -Oz {fn[:-4]}.mpileup.vcf.gz > {fn[:-4]}.call.vcf.gz 2>/dev/null')\n",
    "    os.system(f'haplogrep classify --input {fn[:-4]}.call.vcf.gz --output {fn[:-4]}.haplogrep.txt --format vcf > /dev/null')\n",
    "    print(\"Haplogrep| GLHAP\")\n",
    "    with open(f'{fn[:-4]}.haplogrep.txt') as f:\n",
    "        s1 =f.readlines()\n",
    "    s1 = s1[1].replace('\"','').split('\\t')[1].replace(' ','')\n",
    "    # print(s1)\n",
    "    print('haplogrep|glhap')\n",
    "    s2 = glhap_app.glhap('refchrm.fa', 'array/array.json', f'{fn[:-4]}.mpileup.vcf.gz' )\n",
    "    s2 = s2.splitlines()[1].split('|')[0].replace(' ','')\n",
    "    # print(s2)\n",
    "    if s1==s2:\n",
    "        print(s1, '=', s2)\n",
    "        return 1\n",
    "    else:\n",
    "        print(s1, '!=', s2)\n",
    "        \n",
    "    return 0\n",
    "    "
   ]
  },
  {
   "cell_type": "code",
   "execution_count": 9,
   "id": "b395fd97-a164-40d8-b846-6ea34265b48c",
   "metadata": {},
   "outputs": [],
   "source": [
    "def get_glhap_accuracy(fn, depth, iterations=100):\n",
    "    os.system(f'bcftools mpileup -Oz -f refchrm.fa {fn} > {fn[:-4]}.mpileup.vcf.gz 2>/dev/null')\n",
    "    os.system(f'bcftools index {fn[:-4]}.mpileup.vcf.gz 2>/dev/null')\n",
    "    os.system(f'bcftools call -m -Oz {fn[:-4]}.mpileup.vcf.gz > {fn[:-4]}.call.vcf.gz 2>/dev/null')\n",
    "    \n",
    "    true_haplogroup = haplogrep_result(f'{fn[:-4]}.call.vcf.gz')\n",
    "    coinc = 0\n",
    "    original_depth = get_mean_depth(fn)\n",
    "    for i in range(iterations):\n",
    "        downsample(fn, depth, original_depth)\n",
    "        fn_down = f'{fn[:-4]}.cov_{depth}.bam'\n",
    "        os.system(f'bcftools mpileup -Oz -f refchrm.fa {fn_down} > {fn_down[:-4]}.mpileup.vcf.gz 2>/dev/null')\n",
    "        os.system(f'bcftools index {fn_down[:-4]}.mpileup.vcf.gz 2>/dev/null')\n",
    "        hap = glhap_results(f'{fn_down[:-4]}.mpileup.vcf.gz')\n",
    "        if hap==true_haplogroup:\n",
    "            coinc +=1\n",
    "    return coinc / iterations\n",
    "\n",
    "\n",
    "def get_haplogrep_accuracy(fn, depth, iterations=100):\n",
    "    os.system(f'bcftools mpileup -Oz -f refchrm.fa {fn} > {fn[:-4]}.mpileup.vcf.gz 2>/dev/null')\n",
    "    os.system(f'bcftools index {fn[:-4]}.mpileup.vcf.gz 2>/dev/null')\n",
    "    os.system(f'bcftools call -m -Oz {fn[:-4]}.mpileup.vcf.gz > {fn[:-4]}.call.vcf.gz 2>/dev/null')\n",
    "    \n",
    "    true_haplogroup = haplogrep_result(f'{fn[:-4]}.call.vcf.gz')\n",
    "    coinc = 0\n",
    "    original_depth = get_mean_depth(fn)\n",
    "    for i in range(iterations):\n",
    "        downsample(fn, depth, original_depth)\n",
    "        fn_down = f'{fn[:-4]}.cov_{depth}.bam'\n",
    "        os.system(f'bcftools mpileup -Oz -f refchrm.fa {fn_down} > {fn_down[:-4]}.mpileup.vcf.gz 2>/dev/null')\n",
    "        os.system(f'bcftools index {fn_down[:-4]}.mpileup.vcf.gz 2>/dev/null')\n",
    "        os.system(f'bcftools call -m -Oz {fn_down[:-4]}.mpileup.vcf.gz > {fn_down[:-4]}.call.vcf.gz 2>/dev/null')\n",
    "        hap = haplogrep_result(f'{fn_down[:-4]}.call.vcf.gz')\n",
    "        if hap==true_haplogroup:\n",
    "            coinc +=1\n",
    "    return coinc / iterations\n",
    "        \n",
    "        \n",
    "        \n",
    "    "
   ]
  },
  {
   "cell_type": "code",
   "execution_count": 187,
   "id": "3db1887c-42a4-4e8f-87ac-791933ee09c4",
   "metadata": {},
   "outputs": [
    {
     "data": {
      "text/plain": [
       "[0.1,\n",
       " 0.2,\n",
       " 0.30000000000000004,\n",
       " 0.4,\n",
       " 0.5,\n",
       " 0.6,\n",
       " 0.7000000000000001,\n",
       " 0.8,\n",
       " 0.9,\n",
       " 1.0,\n",
       " 1.1,\n",
       " 1.2000000000000002,\n",
       " 1.3000000000000003,\n",
       " 1.4000000000000001,\n",
       " 1.5000000000000002,\n",
       " 1.6,\n",
       " 1.7000000000000002,\n",
       " 1.8000000000000003,\n",
       " 1.9000000000000001,\n",
       " 2.0]"
      ]
     },
     "execution_count": 187,
     "metadata": {},
     "output_type": "execute_result"
    }
   ],
   "source": [
    "depths = [0.1 + 0.1 * i for i in range(0,20)]\n",
    "depths"
   ]
  },
  {
   "cell_type": "code",
   "execution_count": 9,
   "id": "008bd27f-0c82-47a7-8f6c-a1f1faeecece",
   "metadata": {},
   "outputs": [],
   "source": [
    "def get_accuracy_graph(fn, iterations=10):\n",
    "    ys_glhap = []\n",
    "    ys_haplogrep = []\n",
    "    for d in depths:\n",
    "        ys_glhap.append(get_glhap_accuracy(fn, d, iterations))\n",
    "        ys_haplogrep.append(get_haplogrep_accuracy(fn, d, iterations))\n",
    "    plt.plot(depths, ys_glhap, label = 'Glhap')\n",
    "    plt.plot(depths, ys_haplogrep, label = 'Haplogrep')\n",
    "    plt.legend()\n",
    "    plt.show()\n",
    "    np.savetxt(f'{fn[:-4]}.glhap.txt', [depths, ys_glhap])\n",
    "    np.savetxt(f'{fn[:-4]}.haplogrep.txt', [depths, ys_glhap])\n",
    "    "
   ]
  },
  {
   "cell_type": "code",
   "execution_count": 184,
   "id": "c768261a-f223-4c59-83c1-bd2e336b0b93",
   "metadata": {},
   "outputs": [
    {
     "data": {
      "image/png": "[encoded data removed]",
      "text/plain": [
       "<Figure size 432x288 with 1 Axes>"
      ]
     },
     "metadata": {
      "needs_background": "light"
     },
     "output_type": "display_data"
    }
   ],
   "source": [
    "get_accuracy_graph('in1.bam', 100)"
   ]
  },
  {
   "cell_type": "code",
   "execution_count": 173,
   "id": "d1ef8e3f-95e9-407e-8511-211b4f0016e4",
   "metadata": {},
   "outputs": [],
   "source": [
    "f = np.loadtxt('in1.glhap.txt')"
   ]
  },
  {
   "cell_type": "code",
   "execution_count": 174,
   "id": "144349a1-81d4-4859-bdc2-1fa262b7ee98",
   "metadata": {},
   "outputs": [],
   "source": [
    "g = np.loadtxt('in1.haplogrep.txt')"
   ]
  },
  {
   "cell_type": "code",
   "execution_count": 166,
   "id": "a509031a-4fd6-407e-9c91-4d7d1fea2ba6",
   "metadata": {},
   "outputs": [
    {
     "data": {
      "text/plain": [
       "array([[0.1, 0.6, 1.1, 1.6, 2.1],\n",
       "       [0.5, 1. , 1. , 1. , 1. ]])"
      ]
     },
     "execution_count": 166,
     "metadata": {},
     "output_type": "execute_result"
    }
   ],
   "source": [
    "f"
   ]
  },
  {
   "cell_type": "code",
   "execution_count": 175,
   "id": "ffacea5d-2ad2-4651-9519-dd76dd56cab6",
   "metadata": {},
   "outputs": [
    {
     "data": {
      "text/plain": [
       "[<matplotlib.lines.Line2D at 0x16c23d7b0>]"
      ]
     },
     "execution_count": 175,
     "metadata": {},
     "output_type": "execute_result"
    },
    {
     "data": {
      "image/png": "[encoded data removed]",
      "text/plain": [
       "<Figure size 432x288 with 1 Axes>"
      ]
     },
     "metadata": {
      "needs_background": "light"
     },
     "output_type": "display_data"
    }
   ],
   "source": [
    "plt.plot(f[0],f[1])\n",
    "plt.plot(g[0],g[1])"
   ]
  },
  {
   "cell_type": "code",
   "execution_count": 183,
   "id": "ca49f461-4764-4ee8-8995-5ea4b0e3ebc5",
   "metadata": {},
   "outputs": [
    {
     "data": {
      "text/plain": [
       "<AxesSubplot:>"
      ]
     },
     "execution_count": 183,
     "metadata": {},
     "output_type": "execute_result"
    },
    {
     "data": {
      "image/png": "[encoded data removed]",
      "text/plain": [
       "<Figure size 432x288 with 1 Axes>"
      ]
     },
     "metadata": {
      "needs_background": "light"
     },
     "output_type": "display_data"
    }
   ],
   "source": [
    "sns.lineplot(x=np.concatenate([f[0],g[0]]), y=np.concatenate([f[1],g[1]]))"
   ]
  },
  {
   "cell_type": "code",
   "execution_count": 10,
   "id": "d7b400e9-3f12-499b-9b8d-33047b5a22cb",
   "metadata": {},
   "outputs": [
    {
     "name": "stdout",
     "output_type": "stream",
     "text": [
      "Haplogrep| GLHAP\n",
      "haplogrep|glhap\n",
      "H2a2b != mt-MRCA(RSRS)\n"
     ]
    },
    {
     "data": {
      "text/plain": [
       "0"
      ]
     },
     "execution_count": 10,
     "metadata": {},
     "output_type": "execute_result"
    }
   ],
   "source": [
    "haplogrep_calc('HGDP00900.alt_bwamem_GRCh38DH.20181023.Russian.cram.bam')"
   ]
  },
  {
   "cell_type": "code",
   "execution_count": 10,
   "id": "8f886a7a-29fd-493c-a1b2-1b44196cba4e",
   "metadata": {},
   "outputs": [
    {
     "name": "stdout",
     "output_type": "stream",
     "text": [
      "Haplogrep| GLHAP\n",
      "haplogrep|glhap\n",
      "Haplogroup     |\tPL score       \n",
      "X2b5           |\t-535.4         \n",
      "X2b            |\t-611.9         \n",
      "X2b4           |\t-611.9         \n",
      "X2b7           |\t-611.9         \n",
      "X2b8           |\t-611.9         \n",
      "X2b9           |\t-611.9         \n",
      "X2b1           |\t-637.4         \n",
      "X2b3           |\t-637.4         \n",
      "\n",
      "X2b5 = X2b5\n"
     ]
    },
    {
     "data": {
      "text/plain": [
       "1"
      ]
     },
     "execution_count": 10,
     "metadata": {},
     "output_type": "execute_result"
    }
   ],
   "source": [
    "haplogrep_calc('in1.bam')"
   ]
  },
  {
   "cell_type": "code",
   "execution_count": null,
   "id": "8ba7323d-0d1e-4791-b413-d60995739be2",
   "metadata": {},
   "outputs": [],
   "source": []
  }
 ],
 "metadata": {
  "kernelspec": {
   "display_name": "Python 3 (ipykernel)",
   "language": "python",
   "name": "python3"
  },
  "language_info": {
   "codemirror_mode": {
    "name": "ipython",
    "version": 3
   },
   "file_extension": ".py",
   "mimetype": "text/x-python",
   "name": "python",
   "nbconvert_exporter": "python",
   "pygments_lexer": "ipython3",
   "version": "3.10.5"
  }
 },
 "nbformat": 4,
 "nbformat_minor": 5
}
