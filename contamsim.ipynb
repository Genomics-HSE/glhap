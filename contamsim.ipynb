{
 "cells": [
  {
   "cell_type": "code",
   "execution_count": null,
   "id": "10dc30e5-4b14-4e2f-ad50-209b51e642c0",
   "metadata": {},
   "outputs": [],
   "source": [
    "#simple contamination read create"
   ]
  },
  {
   "cell_type": "code",
   "execution_count": 9,
   "id": "dd51b3c9-ee91-482a-bade-5daa8ad9f536",
   "metadata": {},
   "outputs": [],
   "source": [
    "from Bio import SeqIO\n",
    "from Bio.Seq import Seq\n",
    "from Bio.SeqRecord import SeqRecord\n",
    "import numpy as np\n",
    "import os\n",
    "import sys\n",
    "from tqdm import tqdm"
   ]
  },
  {
   "cell_type": "code",
   "execution_count": 10,
   "id": "b3c80127-13ff-4d24-b9e2-5dcc44d5567e",
   "metadata": {},
   "outputs": [],
   "source": [
    "def make_fastq(*args, size=100000, err_base=0.01, del_base=0.000, ins_base=0.000, total_reads=100000):\n",
    "    assert(len(args)%2 == 0)\n",
    "    \n",
    "    genomes_fnames = []\n",
    "    proportion = []\n",
    "    \n",
    "    for i, x in enumerate(args):\n",
    "        if i % 2 == 0:\n",
    "            genomes_fnames.append(x)\n",
    "        else:\n",
    "            proportion.append(float(x))\n",
    "    \n",
    "    cat_str = 'samtools cat'\n",
    "    os.system('rm contaminants.fa')\n",
    "    os.system('touch contaminants.fa')\n",
    "    for i, genome_file in enumerate(genomes_fnames):\n",
    "        os.system(f'cp {genome_file} ./genome_{i}.fa')\n",
    "        if i != 0:\n",
    "            os.system(f'echo {genome_file} >> contaminants.fa')\n",
    "        os.system(f'''sed -i '' \"1s/.*/>chrM/\" genome_{i}.fa''')\n",
    "        fname =  f'genome_{i}.fa'\n",
    "        command_line = \\\n",
    "        f'simlord\\\n",
    "        -rr {fname}\\\n",
    "        -pi {ins_base}\\\n",
    "        -pd {del_base}\\\n",
    "        -ps {err_base}\\\n",
    "        -fl 100\\\n",
    "        -n {int(total_reads*proportion[i])}\\\n",
    "        genome_{i}'\n",
    "        os.system(command_line)\n",
    "        os.system(f'samtools view -b genome_{i}.sam > genome_{i}.bam')\n",
    "        os.system(f'rm genome_{i}.sam genome_{i}.fa genome_{i}.fastq')\n",
    "        cat_str += f' genome_{i}.bam'\n",
    "    \n",
    "    os.system(f'{cat_str} | samtools sort > simulated_data.bam')\n",
    "        \n",
    "        \n",
    "    \n",
    "        \n",
    "        \n",
    "    print('finish')\n",
    "    "
   ]
  },
  {
   "cell_type": "code",
   "execution_count": 11,
   "id": "346bd177-2b49-446e-ad0a-20829e958d05",
   "metadata": {},
   "outputs": [
    {
     "ename": "AssertionError",
     "evalue": "",
     "output_type": "error",
     "traceback": [
      "\u001b[0;31m---------------------------------------------------------------------------\u001b[0m",
      "\u001b[0;31mAssertionError\u001b[0m                            Traceback (most recent call last)",
      "Input \u001b[0;32mIn [11]\u001b[0m, in \u001b[0;36m<cell line: 1>\u001b[0;34m()\u001b[0m\n\u001b[0;32m----> 1\u001b[0m \u001b[43mmake_fastq\u001b[49m\u001b[43m(\u001b[49m\u001b[43msys\u001b[49m\u001b[38;5;241;43m.\u001b[39;49m\u001b[43margv\u001b[49m\u001b[43m[\u001b[49m\u001b[38;5;241;43m1\u001b[39;49m\u001b[43m:\u001b[49m\u001b[43m]\u001b[49m\u001b[43m)\u001b[49m\n",
      "Input \u001b[0;32mIn [10]\u001b[0m, in \u001b[0;36mmake_fastq\u001b[0;34m(size, err_base, del_base, ins_base, total_reads, *args)\u001b[0m\n\u001b[1;32m      1\u001b[0m \u001b[38;5;28;01mdef\u001b[39;00m \u001b[38;5;21mmake_fastq\u001b[39m(\u001b[38;5;241m*\u001b[39margs, size\u001b[38;5;241m=\u001b[39m\u001b[38;5;241m100000\u001b[39m, err_base\u001b[38;5;241m=\u001b[39m\u001b[38;5;241m0.01\u001b[39m, del_base\u001b[38;5;241m=\u001b[39m\u001b[38;5;241m0.000\u001b[39m, ins_base\u001b[38;5;241m=\u001b[39m\u001b[38;5;241m0.000\u001b[39m, total_reads\u001b[38;5;241m=\u001b[39m\u001b[38;5;241m100000\u001b[39m):\n\u001b[0;32m----> 2\u001b[0m     \u001b[38;5;28;01massert\u001b[39;00m(\u001b[38;5;28mlen\u001b[39m(args)\u001b[38;5;241m%\u001b[39m\u001b[38;5;241m2\u001b[39m \u001b[38;5;241m==\u001b[39m \u001b[38;5;241m0\u001b[39m)\n\u001b[1;32m      4\u001b[0m     genomes_fnames \u001b[38;5;241m=\u001b[39m []\n\u001b[1;32m      5\u001b[0m     proportion \u001b[38;5;241m=\u001b[39m []\n",
      "\u001b[0;31mAssertionError\u001b[0m: "
     ]
    }
   ],
   "source": [
    "make_fastq(sys.argv[1:])"
   ]
  },
  {
   "cell_type": "code",
   "execution_count": null,
   "id": "79c09201-5e89-4211-ae8d-78b1e44abd87",
   "metadata": {},
   "outputs": [],
   "source": []
  },
  {
   "cell_type": "code",
   "execution_count": null,
   "id": "c05683d5-921d-44d1-bcc0-981107e94628",
   "metadata": {},
   "outputs": [],
   "source": []
  }
 ],
 "metadata": {
  "kernelspec": {
   "display_name": "Python 3 (ipykernel)",
   "language": "python",
   "name": "python3"
  },
  "language_info": {
   "codemirror_mode": {
    "name": "ipython",
    "version": 3
   },
   "file_extension": ".py",
   "mimetype": "text/x-python",
   "name": "python",
   "nbconvert_exporter": "python",
   "pygments_lexer": "ipython3",
   "version": "3.10.5"
  }
 },
 "nbformat": 4,
 "nbformat_minor": 5
}
