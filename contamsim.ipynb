{
 "cells": [
  {
   "cell_type": "code",
   "execution_count": null,
   "id": "10dc30e5-4b14-4e2f-ad50-209b51e642c0",
   "metadata": {},
   "outputs": [],
   "source": [
    "#simple contamination read create"
   ]
  },
  {
   "cell_type": "code",
   "execution_count": 29,
   "id": "dd51b3c9-ee91-482a-bade-5daa8ad9f536",
   "metadata": {},
   "outputs": [],
   "source": [
    "from Bio import SeqIO\n",
    "from Bio.Seq import Seq\n",
    "from Bio.SeqRecord import SeqRecord\n",
    "import numpy as np\n",
    "import os\n",
    "import sys\n",
    "from tqdm import tqdm\n",
    "import numpy as np"
   ]
  },
  {
   "cell_type": "code",
   "execution_count": 30,
   "id": "ab272f3e-e227-45e6-9a61-07780aad32cd",
   "metadata": {},
   "outputs": [],
   "source": [
    "import argparse"
   ]
  },
  {
   "cell_type": "code",
   "execution_count": 57,
   "id": "791d92fc-060f-4576-aaf0-fee91689d107",
   "metadata": {},
   "outputs": [
    {
     "data": {
      "text/plain": [
       "_StoreAction(option_strings=['--ins_base'], dest='ins_base', nargs=None, const=None, default=0.0, type=None, choices=None, required=False, help='coverage', metavar=None)"
      ]
     },
     "execution_count": 57,
     "metadata": {},
     "output_type": "execute_result"
    }
   ],
   "source": [
    "parser = argparse.ArgumentParser(description='Call out my name. Adepti Xiao. I will be here')\n",
    "parser.add_argument('--fnames', nargs='*', help='genomes filenames')\n",
    "parser.add_argument('--proportions', nargs='*',type=float , help='proportions of contaminants')\n",
    "parser.add_argument('--coverage', default=20, type=float, help='coverage')\n",
    "parser.add_argument('--err_base',default=0.01, help='coverage')\n",
    "parser.add_argument('--del_base',default=0., help='coverage')\n",
    "parser.add_argument('--ins_base',default=0., help='coverage')\n",
    "parser.add_argument('--output',default='simulated_data.bam',type=str, help='name of final file')"
   ]
  },
  {
   "cell_type": "code",
   "execution_count": 58,
   "id": "b3c80127-13ff-4d24-b9e2-5dcc44d5567e",
   "metadata": {},
   "outputs": [],
   "source": [
    "def make_fastq(genomes_fnames, proportion, err_base, del_base, ins_base, coverage, output):\n",
    "    \n",
    "    assert np.sum(proportion) == 1\n",
    "    \n",
    "    cat_str = 'samtools cat'\n",
    "    os.system('rm contaminants.fa')\n",
    "    os.system('touch contaminants.fa')\n",
    "    for i, genome_file in enumerate(genomes_fnames):\n",
    "        os.system(f'cp {genome_file} ./genome_{i}.fa')\n",
    "        if i != 0:\n",
    "            os.system(f'echo {genome_file} >> contaminants.fa')\n",
    "        os.system(f'''sed -i '' \"1s/.*/>chrM/\" genome_{i}.fa''')\n",
    "        fname =  f'genome_{i}.fa'\n",
    "        command_line = \\\n",
    "        f'simlord\\\n",
    "        -rr {fname}\\\n",
    "        -pi {ins_base}\\\n",
    "        -pd {del_base}\\\n",
    "        -ps {err_base}\\\n",
    "        -fl 100\\\n",
    "        -c {proportion[i] * coverage}\\\n",
    "        genome_{i}'\n",
    "        os.system(command_line)\n",
    "        os.system(f'samtools view -b genome_{i}.sam > genome_{i}.bam')\n",
    "        os.system(f'rm genome_{i}.sam genome_{i}.fa genome_{i}.fastq')\n",
    "        cat_str += f' genome_{i}.bam'\n",
    "    \n",
    "    os.system(f'{cat_str} | samtools sort > {output}')\n",
    "        \n",
    "        \n",
    "    \n",
    "        \n",
    "        \n",
    "    print('finish')\n",
    "    "
   ]
  },
  {
   "cell_type": "code",
   "execution_count": 59,
   "id": "53f27fc1-94ad-4a7f-a5b0-c2845a9d008e",
   "metadata": {},
   "outputs": [],
   "source": [
    "args = parser.parse_args(sys.argv[1:])\n",
    "#\"--fnames fasta/A.fasta fasta/L2a1a.fasta --proportions 0.7 0.3 --coverage 3\".split()"
   ]
  },
  {
   "cell_type": "code",
   "execution_count": 60,
   "id": "e7c81ae5-2280-41c6-aa80-c526545bb387",
   "metadata": {},
   "outputs": [
    {
     "data": {
      "text/plain": [
       "[0.7, 0.3]"
      ]
     },
     "execution_count": 60,
     "metadata": {},
     "output_type": "execute_result"
    }
   ],
   "source": [
    "args.proportions"
   ]
  },
  {
   "cell_type": "code",
   "execution_count": 61,
   "id": "346bd177-2b49-446e-ad0a-20829e958d05",
   "metadata": {},
   "outputs": [
    {
     "name": "stderr",
     "output_type": "stream",
     "text": [
      "Time for reading/generating the reference: 0:00:00.000112 h\n",
      "Time for simulation of 347 reads: 0:00:00.074896 h.\n"
     ]
    },
    {
     "name": "stdout",
     "output_type": "stream",
     "text": [
      "finish\n"
     ]
    },
    {
     "name": "stderr",
     "output_type": "stream",
     "text": [
      "Time for reading/generating the reference: 0:00:00.000107 h\n",
      "Time for simulation of 149 reads: 0:00:00.033001 h.\n"
     ]
    }
   ],
   "source": [
    "make_fastq(args.fnames, args.proportions, args.err_base, args.del_base, args.ins_base, args.coverage, args.output)"
   ]
  },
  {
   "cell_type": "code",
   "execution_count": null,
   "id": "79c09201-5e89-4211-ae8d-78b1e44abd87",
   "metadata": {},
   "outputs": [],
   "source": []
  },
  {
   "cell_type": "code",
   "execution_count": null,
   "id": "c05683d5-921d-44d1-bcc0-981107e94628",
   "metadata": {},
   "outputs": [],
   "source": []
  }
 ],
 "metadata": {
  "kernelspec": {
   "display_name": "Python 3 (ipykernel)",
   "language": "python",
   "name": "python3"
  },
  "language_info": {
   "codemirror_mode": {
    "name": "ipython",
    "version": 3
   },
   "file_extension": ".py",
   "mimetype": "text/x-python",
   "name": "python",
   "nbconvert_exporter": "python",
   "pygments_lexer": "ipython3",
   "version": "3.10.5"
  }
 },
 "nbformat": 4,
 "nbformat_minor": 5
}
