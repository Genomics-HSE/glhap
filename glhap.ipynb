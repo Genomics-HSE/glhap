{
 "cells": [
  {
   "cell_type": "code",
   "execution_count": 15,
   "metadata": {},
   "outputs": [],
   "source": [
    "## from tree_construct import *\n",
    "# from likelihood_calculation import *\n",
    "import glhap_app\n",
    "from pysam import VariantFile, FastaFile\n",
    "import matplotlib.pyplot as plt\n",
    "import numpy as np\n",
    "import argparse"
   ]
  },
  {
   "cell_type": "code",
   "execution_count": 16,
   "metadata": {},
   "outputs": [],
   "source": [
    "def is_notebook() -> bool:\n",
    "    try:\n",
    "        shell = get_ipython().__class__.__name__\n",
    "        if shell == 'ZMQInteractiveShell':\n",
    "            return True   # Jupyter notebook or qtconsole\n",
    "        elif shell == 'TerminalInteractiveShell':\n",
    "            return False  # Terminal running IPython\n",
    "        else:\n",
    "            return False  # Other type (?)\n",
    "    except NameError:\n",
    "        return False      # Probably standard Python interpreter"
   ]
  },
  {
   "cell_type": "code",
   "execution_count": 17,
   "metadata": {},
   "outputs": [],
   "source": [
    "if is_notebook() == False:\n",
    "    parser = argparse.ArgumentParser(description='Calculation of haplogroups')\n",
    "    parser.add_argument('tree', type=str, help='haplogroup tree')\n",
    "    parser.add_argument('ref', type=str, help='reference fasta')\n",
    "    parser.add_argument('vcf', type=str, help='vcf file of mtdna')\n",
    "    args = parser.parse_args()\n",
    "\n",
    "    bcf_in = VariantFile(args.vcf) \n",
    "    ref = FastaFile(args.ref)\n",
    "else:\n",
    "    tree = 'array/array.json'\n",
    "    ref = 'refchrm.fa'\n",
    "    bcf_in = 'HGDP00900.alt_bwamem_GRCh38DH.20181023.Russian.cram.mpileup.vcf.gz'\n",
    "    # bcf_in = 'in1.mpileup.vcf.gz'"
   ]
  },
  {
   "cell_type": "code",
   "execution_count": 14,
   "metadata": {},
   "outputs": [
    {
     "name": "stdout",
     "output_type": "stream",
     "text": [
      "Haplogroup     |\tPL score       \n",
      "H2a2b          |\t-166.20000000000002\n",
      "mt-MRCA (RSRS) |\t-167.8         \n",
      "H2a2b4         |\t-186.00000000000003\n",
      "H2a2b5         |\t-188.10000000000002\n",
      "L1'2'3'4'5'6   |\t-188.20000000000002\n",
      "L2'3'4'5'6     |\t-188.20000000000002\n",
      "H2a2b2         |\t-188.8         \n",
      "H2a2b3         |\t-189.60000000000002\n",
      "\n"
     ]
    },
    {
     "data": {
      "text/plain": [
       "\"Haplogroup     |\\tPL score       \\nH2a2b          |\\t-166.20000000000002\\nmt-MRCA (RSRS) |\\t-167.8         \\nH2a2b4         |\\t-186.00000000000003\\nH2a2b5         |\\t-188.10000000000002\\nL1'2'3'4'5'6   |\\t-188.20000000000002\\nL2'3'4'5'6     |\\t-188.20000000000002\\nH2a2b2         |\\t-188.8         \\nH2a2b3         |\\t-189.60000000000002\\n\""
      ]
     },
     "execution_count": 14,
     "metadata": {},
     "output_type": "execute_result"
    }
   ],
   "source": [
    "# print(RenderTree(glhap_app.glhap(ref, tree, bcf_in)))\n",
    "glhap_app.glhap(ref, tree, bcf_in)"
   ]
  },
  {
   "cell_type": "code",
   "execution_count": null,
   "metadata": {},
   "outputs": [],
   "source": [
    "def glhap_aposterior(bcf_in_str):\n",
    "    with open('array/array.json') as f:\n",
    "        d = json.load(f) # d - это список python\n",
    "    for i in d:\n",
    "        i[0] += 1\n",
    "    d[0][0]=0\n",
    "\n",
    "    bcf_in = VariantFile(bcf_in_str) \n",
    "    ref = FastaFile('refchrm.fa')\n",
    "    a = Node(d[0][1],[])\n",
    "    make_tree(d,a,0)\n",
    "    ref_lh = calculate_likelihood(bcf_in, ref)\n",
    "    gls = get_log_monozygous(bcf_in)\n",
    "    prunung(a, ref, ref_lh, gls)\n",
    "    key = lambda x: x.lh\n",
    "    S = list()\n",
    "    for i in PreOrderIter(a):\n",
    "        S.append(i)\n",
    "    S.sort(key = key,reverse=True)\n",
    "    \n",
    "    aposterior_divisor = sum([2**S[i].lh for i in range(len(S))])\n",
    "    \n",
    "    return [2**S[i].lh/aposterior_divisor for i in range(10)]\n",
    "    \n"
   ]
  },
  {
   "cell_type": "code",
   "execution_count": null,
   "metadata": {},
   "outputs": [],
   "source": [
    "make_tree("
   ]
  }
 ],
 "metadata": {
  "kernelspec": {
   "display_name": "Python 3 (ipykernel)",
   "language": "python",
   "name": "python3"
  },
  "language_info": {
   "codemirror_mode": {
    "name": "ipython",
    "version": 3
   },
   "file_extension": ".py",
   "mimetype": "text/x-python",
   "name": "python",
   "nbconvert_exporter": "python",
   "pygments_lexer": "ipython3",
   "version": "3.10.5"
  }
 },
 "nbformat": 4,
 "nbformat_minor": 4
}
